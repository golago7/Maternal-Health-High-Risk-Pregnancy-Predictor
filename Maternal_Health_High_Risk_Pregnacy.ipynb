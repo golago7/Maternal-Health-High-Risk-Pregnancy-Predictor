{
  "cells": [
    {
      "cell_type": "markdown",
      "metadata": {
        "id": "mj1zaN8k4Ab1"
      },
      "source": [
        "## Predicting High Risk Pregnancy"
      ]
    },
    {
      "cell_type": "markdown",
      "metadata": {
        "id": "R5A10r8222sC"
      },
      "source": [
        "### Contex:\n",
        "This dataset contains antenatal and clinical information from pregnant women, aiming to assess and predict high-risk pregnancies. Each record represents an individual expectant mother with demographic, physiological, and diagnostic details collected during prenatal visits.\n",
        "\n",
        "The data captures important maternal and fetal parameters such as age, gestational age, blood pressure, weight, anemia, fetal movement, fetal heart rate, and laboratory test results (urine tests, VDRL, and HBsAg).\n",
        "\n",
        "The core objective is to use these features to predict whether a pregnancy is high-risk or not, supporting early medical interventions and improved maternal–fetal health outcomes.\n",
        "\n",
        "**Key Elements**\n",
        "- **Type of study**: Maternal health / Antenatal risk classification\n",
        "- **Data type**: Tabular (structured data, mix of categorical and numerical features)\n",
        "- **Prediction type**: Binary classification\n",
        "- **Target variable**: High-Risk Pregnancy (Yes / No)\n",
        "- **Use case**: Decision support system for healthcare workers to identify high-risk cases early\n",
        "\n",
        "### Goal\n",
        "To develop a predictive model that uses features such as age, gestational age, blood pressure, weight, urine test results, and clinical indicators (like anemia, jaundice, and VDRL/HRsAG results) to classify pregnancies as either:\n",
        "- High-Risk Pregnancy (Yes), or\n",
        "- Normal/Low-Risk Pregnancy (No)\n",
        "\n",
        "### Purpose of the Prediction\n",
        "- Early detection of high-risk pregnancies to enable timely medical interventions.\n",
        "- Support clinical decision-making for maternal health workers.\n",
        "- Reduce maternal and neonatal complications by identifying at-risk individuals.\n",
        "\n",
        "### Data dictionary:\n",
        "- Name – Name of the pregnant woman\n",
        "- Age – Age in years\n",
        "- Gravida – Number of times the woman has been pregnant (e.g., 1st, 2nd)- TranslationTT Injection – Number or stage of Tetanus Toxoid (TT) injections received\n",
        "- Gestational Age – Duration of pregnancy in weeks\n",
        "- Weight – Body weight of the woman (in kilograms)\n",
        "- Height – Height of the woman (in feet and inches)\n",
        "- Blood Pressure – Blood pressure reading (mmHg)\n",
        "- Anemia – Presence or absence of anemia\n",
        "- Jaundice – Presence or absence of jaundice\n",
        "- Fetal Position – Position of the fetus (e.g., normal, breech)\n",
        "- Fetal Movement – Observation of fetal movement (e.g., normal, abnormal)\n",
        "- Fetal Heart Rate – Fetal heart rate (beats per minute, e.g., 140m)\n",
        "- Urine Test – Albumin – Result of urine test for albumin (e.g., None, Trace, Positive)\n",
        "- Urine Test – Sugar – Result of urine test for sugar (e.g., Yes/No)\n",
        "- VDRL – Syphilis screening test result (e.g., Positive/Negative)\n",
        "- HRsAG – Hepatitis B surface antigen test result (e.g., Positive/Negative)\n",
        "- High-Risk Pregnancy – Indicates whether the pregnancy is high-risk (Yes/No)"
      ]
    },
    {
      "cell_type": "markdown",
      "metadata": {
        "id": "dyfKjnrJ22sO"
      },
      "source": [
        "## Importing Liabraries"
      ]
    },
    {
      "cell_type": "code",
      "execution_count": 1,
      "metadata": {
        "id": "x8M5DBwn22sQ"
      },
      "outputs": [],
      "source": [
        "# this will help in making the Python code more structured automatically (help adhere to good coding practices)\n",
        "#%load_ext nb_black\n",
        "\n",
        "import warnings\n",
        "\n",
        "warnings.filterwarnings(\"ignore\")\n",
        "from statsmodels.tools.sm_exceptions import ConvergenceWarning\n",
        "\n",
        "warnings.simplefilter(\"ignore\", ConvergenceWarning)\n",
        "\n",
        "# Libraries to help with reading and manipulating data\n",
        "import pandas as pd\n",
        "import numpy as np\n",
        "\n",
        "# libaries to help with data visualization\n",
        "import matplotlib.pyplot as plt\n",
        "import seaborn as sns\n",
        "\n",
        "# Removes the limit for the number of displayed columns\n",
        "pd.set_option(\"display.max_columns\", None)\n",
        "# Sets the limit for the number of displayed rows\n",
        "pd.set_option(\"display.max_rows\", 200)\n",
        "# setting the precision of floating numbers to 5 decimal points\n",
        "pd.set_option(\"display.float_format\", lambda x: \"%.5f\" % x)\n",
        "\n",
        "# Library to split data\n",
        "from sklearn.model_selection import train_test_split\n",
        "\n",
        "# Import Label Encoder\n",
        "from sklearn import preprocessing\n",
        "\n",
        "\n",
        "# To impute missing values\n",
        "from sklearn.impute import SimpleImputer\n",
        "from sklearn.model_selection import train_test_split, StratifiedKFold, cross_val_score\n",
        "\n",
        "# To do hyperparameter tuning\n",
        "from sklearn.model_selection import RandomizedSearchCV\n",
        "\n",
        "# To build model for prediction\n",
        "import statsmodels.stats.api as sms\n",
        "from statsmodels.stats.outliers_influence import variance_inflation_factor\n",
        "import statsmodels.api as sm\n",
        "from statsmodels.tools.tools import add_constant\n",
        "from sklearn.tree import DecisionTreeClassifier\n",
        "from sklearn import tree\n",
        "\n",
        "# To tune different models\n",
        "from sklearn.model_selection import GridSearchCV\n",
        "\n",
        "# To help with model building\n",
        "from sklearn.linear_model import LogisticRegression\n",
        "from sklearn.tree import DecisionTreeClassifier\n",
        "from sklearn.ensemble import (\n",
        "    AdaBoostClassifier,\n",
        "    GradientBoostingClassifier,\n",
        "    RandomForestClassifier,\n",
        "    BaggingClassifier,\n",
        ")\n",
        "from xgboost import XGBClassifier\n",
        "\n",
        "# To suppress scientific notations\n",
        "pd.set_option(\"display.float_format\", lambda x: \"%.3f\" % x)\n",
        "# To tune model, get different metric scores, and split data\n",
        "from sklearn.metrics import (\n",
        "    f1_score,\n",
        "    accuracy_score,\n",
        "    recall_score,\n",
        "    precision_score,\n",
        "    confusion_matrix,\n",
        "    roc_auc_score,\n",
        "    ConfusionMatrixDisplay,\n",
        ")\n",
        "from sklearn import metrics\n",
        "\n",
        "from keras.models import Sequential\n",
        "from keras.layers import Dense\n",
        "\n",
        "from sklearn.feature_selection import SelectKBest, f_classif\n",
        "from sklearn.model_selection import train_test_split"
      ]
    },
    {
      "cell_type": "markdown",
      "metadata": {
        "id": "SKvViT8s22sV"
      },
      "source": [
        "## Loading the dataset"
      ]
    },
    {
      "cell_type": "code",
      "source": [
        "import google.colab\n",
        "google.colab.drive.mount('/content/drive')"
      ],
      "metadata": {
        "colab": {
          "base_uri": "https://localhost:8080/"
        },
        "id": "gQ0LPc95f19D",
        "outputId": "6d642567-52a7-464c-d85a-2ec4b40f4c27"
      },
      "execution_count": 67,
      "outputs": [
        {
          "output_type": "stream",
          "name": "stdout",
          "text": [
            "Drive already mounted at /content/drive; to attempt to forcibly remount, call drive.mount(\"/content/drive\", force_remount=True).\n"
          ]
        }
      ]
    },
    {
      "cell_type": "markdown",
      "metadata": {
        "id": "o-uSoGuT4QQ9"
      },
      "source": [
        "### Data Overview"
      ]
    },
    {
      "cell_type": "code",
      "source": [
        "path = \"/content/drive/MyDrive/Data Analysis Projects/Maternal Health High Risk Pregnancy/Maternal Health and High-Risk Pregnancy Dataset.csv\"\n",
        "mat_preg = pd.read_csv(path)"
      ],
      "metadata": {
        "id": "ACZE1084x70U"
      },
      "execution_count": 68,
      "outputs": []
    },
    {
      "cell_type": "code",
      "execution_count": 69,
      "metadata": {
        "id": "cGuGRkm-fnFf",
        "colab": {
          "base_uri": "https://localhost:8080/",
          "height": 258
        },
        "outputId": "a8930d2a-c5ad-435d-91f0-45f6a4d23830"
      },
      "outputs": [
        {
          "output_type": "execute_result",
          "data": {
            "text/plain": [
              "          Name  Age Gravida TranslationTT Injection Gestational Age Weight  \\\n",
              "0    Rituporna   18     1st                     1st         38 week  50 kg   \n",
              "1        Moina   25     2nd                     2nd         38 week  60 kg   \n",
              "2       Rabeya   20     1st                     1st         30 week  55 kg   \n",
              "3       Shorna   22     1st                     3rd         35 week  51 kg   \n",
              "4  Tania Akter   20     1st                     2nd         30 week  53 kg   \n",
              "\n",
              "  Height Blood Pressure Anemia Jaundice Fetal Position Fetal Movement  \\\n",
              "0  5.3''         100/60    NaN      NaN         Normal         Normal   \n",
              "1  5.2''         100/70    NaN      NaN         Normal         Normal   \n",
              "2  5.0''         100/60    NaN      NaN         Normal         Normal   \n",
              "3  5.4''         110/65    NaN      NaN         Normal         Normal   \n",
              "4  5.2''         100/55    NaN      NaN         Normal         Normal   \n",
              "\n",
              "  Fetal Heart Rate Urine Test – Albumin Urine Test – Sugar      VDRL  \\\n",
              "0             140m                  NaN                Yes  Negative   \n",
              "1             130m                  NaN                Yes  Positive   \n",
              "2             120m                  NaN                Yes  Negative   \n",
              "3             130m                  NaN                Yes  Positive   \n",
              "4             125m                  NaN                Yes  Negative   \n",
              "\n",
              "      HRsAG High-Risk Pregnancy  \n",
              "0  Negative                 Yes  \n",
              "1  Negative                  No  \n",
              "2  Negative                 Yes  \n",
              "3  Negative                 Yes  \n",
              "4  Negative                  No  "
            ],
            "text/html": [
              "\n",
              "  <div id=\"df-0a31d05f-1312-4a12-af5c-af52a42d0450\" class=\"colab-df-container\">\n",
              "    <div>\n",
              "<style scoped>\n",
              "    .dataframe tbody tr th:only-of-type {\n",
              "        vertical-align: middle;\n",
              "    }\n",
              "\n",
              "    .dataframe tbody tr th {\n",
              "        vertical-align: top;\n",
              "    }\n",
              "\n",
              "    .dataframe thead th {\n",
              "        text-align: right;\n",
              "    }\n",
              "</style>\n",
              "<table border=\"1\" class=\"dataframe\">\n",
              "  <thead>\n",
              "    <tr style=\"text-align: right;\">\n",
              "      <th></th>\n",
              "      <th>Name</th>\n",
              "      <th>Age</th>\n",
              "      <th>Gravida</th>\n",
              "      <th>TranslationTT Injection</th>\n",
              "      <th>Gestational Age</th>\n",
              "      <th>Weight</th>\n",
              "      <th>Height</th>\n",
              "      <th>Blood Pressure</th>\n",
              "      <th>Anemia</th>\n",
              "      <th>Jaundice</th>\n",
              "      <th>Fetal Position</th>\n",
              "      <th>Fetal Movement</th>\n",
              "      <th>Fetal Heart Rate</th>\n",
              "      <th>Urine Test – Albumin</th>\n",
              "      <th>Urine Test – Sugar</th>\n",
              "      <th>VDRL</th>\n",
              "      <th>HRsAG</th>\n",
              "      <th>High-Risk Pregnancy</th>\n",
              "    </tr>\n",
              "  </thead>\n",
              "  <tbody>\n",
              "    <tr>\n",
              "      <th>0</th>\n",
              "      <td>Rituporna</td>\n",
              "      <td>18</td>\n",
              "      <td>1st</td>\n",
              "      <td>1st</td>\n",
              "      <td>38 week</td>\n",
              "      <td>50 kg</td>\n",
              "      <td>5.3''</td>\n",
              "      <td>100/60</td>\n",
              "      <td>NaN</td>\n",
              "      <td>NaN</td>\n",
              "      <td>Normal</td>\n",
              "      <td>Normal</td>\n",
              "      <td>140m</td>\n",
              "      <td>NaN</td>\n",
              "      <td>Yes</td>\n",
              "      <td>Negative</td>\n",
              "      <td>Negative</td>\n",
              "      <td>Yes</td>\n",
              "    </tr>\n",
              "    <tr>\n",
              "      <th>1</th>\n",
              "      <td>Moina</td>\n",
              "      <td>25</td>\n",
              "      <td>2nd</td>\n",
              "      <td>2nd</td>\n",
              "      <td>38 week</td>\n",
              "      <td>60 kg</td>\n",
              "      <td>5.2''</td>\n",
              "      <td>100/70</td>\n",
              "      <td>NaN</td>\n",
              "      <td>NaN</td>\n",
              "      <td>Normal</td>\n",
              "      <td>Normal</td>\n",
              "      <td>130m</td>\n",
              "      <td>NaN</td>\n",
              "      <td>Yes</td>\n",
              "      <td>Positive</td>\n",
              "      <td>Negative</td>\n",
              "      <td>No</td>\n",
              "    </tr>\n",
              "    <tr>\n",
              "      <th>2</th>\n",
              "      <td>Rabeya</td>\n",
              "      <td>20</td>\n",
              "      <td>1st</td>\n",
              "      <td>1st</td>\n",
              "      <td>30 week</td>\n",
              "      <td>55 kg</td>\n",
              "      <td>5.0''</td>\n",
              "      <td>100/60</td>\n",
              "      <td>NaN</td>\n",
              "      <td>NaN</td>\n",
              "      <td>Normal</td>\n",
              "      <td>Normal</td>\n",
              "      <td>120m</td>\n",
              "      <td>NaN</td>\n",
              "      <td>Yes</td>\n",
              "      <td>Negative</td>\n",
              "      <td>Negative</td>\n",
              "      <td>Yes</td>\n",
              "    </tr>\n",
              "    <tr>\n",
              "      <th>3</th>\n",
              "      <td>Shorna</td>\n",
              "      <td>22</td>\n",
              "      <td>1st</td>\n",
              "      <td>3rd</td>\n",
              "      <td>35 week</td>\n",
              "      <td>51 kg</td>\n",
              "      <td>5.4''</td>\n",
              "      <td>110/65</td>\n",
              "      <td>NaN</td>\n",
              "      <td>NaN</td>\n",
              "      <td>Normal</td>\n",
              "      <td>Normal</td>\n",
              "      <td>130m</td>\n",
              "      <td>NaN</td>\n",
              "      <td>Yes</td>\n",
              "      <td>Positive</td>\n",
              "      <td>Negative</td>\n",
              "      <td>Yes</td>\n",
              "    </tr>\n",
              "    <tr>\n",
              "      <th>4</th>\n",
              "      <td>Tania Akter</td>\n",
              "      <td>20</td>\n",
              "      <td>1st</td>\n",
              "      <td>2nd</td>\n",
              "      <td>30 week</td>\n",
              "      <td>53 kg</td>\n",
              "      <td>5.2''</td>\n",
              "      <td>100/55</td>\n",
              "      <td>NaN</td>\n",
              "      <td>NaN</td>\n",
              "      <td>Normal</td>\n",
              "      <td>Normal</td>\n",
              "      <td>125m</td>\n",
              "      <td>NaN</td>\n",
              "      <td>Yes</td>\n",
              "      <td>Negative</td>\n",
              "      <td>Negative</td>\n",
              "      <td>No</td>\n",
              "    </tr>\n",
              "  </tbody>\n",
              "</table>\n",
              "</div>\n",
              "    <div class=\"colab-df-buttons\">\n",
              "\n",
              "  <div class=\"colab-df-container\">\n",
              "    <button class=\"colab-df-convert\" onclick=\"convertToInteractive('df-0a31d05f-1312-4a12-af5c-af52a42d0450')\"\n",
              "            title=\"Convert this dataframe to an interactive table.\"\n",
              "            style=\"display:none;\">\n",
              "\n",
              "  <svg xmlns=\"http://www.w3.org/2000/svg\" height=\"24px\" viewBox=\"0 -960 960 960\">\n",
              "    <path d=\"M120-120v-720h720v720H120Zm60-500h600v-160H180v160Zm220 220h160v-160H400v160Zm0 220h160v-160H400v160ZM180-400h160v-160H180v160Zm440 0h160v-160H620v160ZM180-180h160v-160H180v160Zm440 0h160v-160H620v160Z\"/>\n",
              "  </svg>\n",
              "    </button>\n",
              "\n",
              "  <style>\n",
              "    .colab-df-container {\n",
              "      display:flex;\n",
              "      gap: 12px;\n",
              "    }\n",
              "\n",
              "    .colab-df-convert {\n",
              "      background-color: #E8F0FE;\n",
              "      border: none;\n",
              "      border-radius: 50%;\n",
              "      cursor: pointer;\n",
              "      display: none;\n",
              "      fill: #1967D2;\n",
              "      height: 32px;\n",
              "      padding: 0 0 0 0;\n",
              "      width: 32px;\n",
              "    }\n",
              "\n",
              "    .colab-df-convert:hover {\n",
              "      background-color: #E2EBFA;\n",
              "      box-shadow: 0px 1px 2px rgba(60, 64, 67, 0.3), 0px 1px 3px 1px rgba(60, 64, 67, 0.15);\n",
              "      fill: #174EA6;\n",
              "    }\n",
              "\n",
              "    .colab-df-buttons div {\n",
              "      margin-bottom: 4px;\n",
              "    }\n",
              "\n",
              "    [theme=dark] .colab-df-convert {\n",
              "      background-color: #3B4455;\n",
              "      fill: #D2E3FC;\n",
              "    }\n",
              "\n",
              "    [theme=dark] .colab-df-convert:hover {\n",
              "      background-color: #434B5C;\n",
              "      box-shadow: 0px 1px 3px 1px rgba(0, 0, 0, 0.15);\n",
              "      filter: drop-shadow(0px 1px 2px rgba(0, 0, 0, 0.3));\n",
              "      fill: #FFFFFF;\n",
              "    }\n",
              "  </style>\n",
              "\n",
              "    <script>\n",
              "      const buttonEl =\n",
              "        document.querySelector('#df-0a31d05f-1312-4a12-af5c-af52a42d0450 button.colab-df-convert');\n",
              "      buttonEl.style.display =\n",
              "        google.colab.kernel.accessAllowed ? 'block' : 'none';\n",
              "\n",
              "      async function convertToInteractive(key) {\n",
              "        const element = document.querySelector('#df-0a31d05f-1312-4a12-af5c-af52a42d0450');\n",
              "        const dataTable =\n",
              "          await google.colab.kernel.invokeFunction('convertToInteractive',\n",
              "                                                    [key], {});\n",
              "        if (!dataTable) return;\n",
              "\n",
              "        const docLinkHtml = 'Like what you see? Visit the ' +\n",
              "          '<a target=\"_blank\" href=https://colab.research.google.com/notebooks/data_table.ipynb>data table notebook</a>'\n",
              "          + ' to learn more about interactive tables.';\n",
              "        element.innerHTML = '';\n",
              "        dataTable['output_type'] = 'display_data';\n",
              "        await google.colab.output.renderOutput(dataTable, element);\n",
              "        const docLink = document.createElement('div');\n",
              "        docLink.innerHTML = docLinkHtml;\n",
              "        element.appendChild(docLink);\n",
              "      }\n",
              "    </script>\n",
              "  </div>\n",
              "\n",
              "\n",
              "    <div id=\"df-025b861e-0498-4ee5-8b16-6a9859ecb8a7\">\n",
              "      <button class=\"colab-df-quickchart\" onclick=\"quickchart('df-025b861e-0498-4ee5-8b16-6a9859ecb8a7')\"\n",
              "                title=\"Suggest charts\"\n",
              "                style=\"display:none;\">\n",
              "\n",
              "<svg xmlns=\"http://www.w3.org/2000/svg\" height=\"24px\"viewBox=\"0 0 24 24\"\n",
              "     width=\"24px\">\n",
              "    <g>\n",
              "        <path d=\"M19 3H5c-1.1 0-2 .9-2 2v14c0 1.1.9 2 2 2h14c1.1 0 2-.9 2-2V5c0-1.1-.9-2-2-2zM9 17H7v-7h2v7zm4 0h-2V7h2v10zm4 0h-2v-4h2v4z\"/>\n",
              "    </g>\n",
              "</svg>\n",
              "      </button>\n",
              "\n",
              "<style>\n",
              "  .colab-df-quickchart {\n",
              "      --bg-color: #E8F0FE;\n",
              "      --fill-color: #1967D2;\n",
              "      --hover-bg-color: #E2EBFA;\n",
              "      --hover-fill-color: #174EA6;\n",
              "      --disabled-fill-color: #AAA;\n",
              "      --disabled-bg-color: #DDD;\n",
              "  }\n",
              "\n",
              "  [theme=dark] .colab-df-quickchart {\n",
              "      --bg-color: #3B4455;\n",
              "      --fill-color: #D2E3FC;\n",
              "      --hover-bg-color: #434B5C;\n",
              "      --hover-fill-color: #FFFFFF;\n",
              "      --disabled-bg-color: #3B4455;\n",
              "      --disabled-fill-color: #666;\n",
              "  }\n",
              "\n",
              "  .colab-df-quickchart {\n",
              "    background-color: var(--bg-color);\n",
              "    border: none;\n",
              "    border-radius: 50%;\n",
              "    cursor: pointer;\n",
              "    display: none;\n",
              "    fill: var(--fill-color);\n",
              "    height: 32px;\n",
              "    padding: 0;\n",
              "    width: 32px;\n",
              "  }\n",
              "\n",
              "  .colab-df-quickchart:hover {\n",
              "    background-color: var(--hover-bg-color);\n",
              "    box-shadow: 0 1px 2px rgba(60, 64, 67, 0.3), 0 1px 3px 1px rgba(60, 64, 67, 0.15);\n",
              "    fill: var(--button-hover-fill-color);\n",
              "  }\n",
              "\n",
              "  .colab-df-quickchart-complete:disabled,\n",
              "  .colab-df-quickchart-complete:disabled:hover {\n",
              "    background-color: var(--disabled-bg-color);\n",
              "    fill: var(--disabled-fill-color);\n",
              "    box-shadow: none;\n",
              "  }\n",
              "\n",
              "  .colab-df-spinner {\n",
              "    border: 2px solid var(--fill-color);\n",
              "    border-color: transparent;\n",
              "    border-bottom-color: var(--fill-color);\n",
              "    animation:\n",
              "      spin 1s steps(1) infinite;\n",
              "  }\n",
              "\n",
              "  @keyframes spin {\n",
              "    0% {\n",
              "      border-color: transparent;\n",
              "      border-bottom-color: var(--fill-color);\n",
              "      border-left-color: var(--fill-color);\n",
              "    }\n",
              "    20% {\n",
              "      border-color: transparent;\n",
              "      border-left-color: var(--fill-color);\n",
              "      border-top-color: var(--fill-color);\n",
              "    }\n",
              "    30% {\n",
              "      border-color: transparent;\n",
              "      border-left-color: var(--fill-color);\n",
              "      border-top-color: var(--fill-color);\n",
              "      border-right-color: var(--fill-color);\n",
              "    }\n",
              "    40% {\n",
              "      border-color: transparent;\n",
              "      border-right-color: var(--fill-color);\n",
              "      border-top-color: var(--fill-color);\n",
              "    }\n",
              "    60% {\n",
              "      border-color: transparent;\n",
              "      border-right-color: var(--fill-color);\n",
              "    }\n",
              "    80% {\n",
              "      border-color: transparent;\n",
              "      border-right-color: var(--fill-color);\n",
              "      border-bottom-color: var(--fill-color);\n",
              "    }\n",
              "    90% {\n",
              "      border-color: transparent;\n",
              "      border-bottom-color: var(--fill-color);\n",
              "    }\n",
              "  }\n",
              "</style>\n",
              "\n",
              "      <script>\n",
              "        async function quickchart(key) {\n",
              "          const quickchartButtonEl =\n",
              "            document.querySelector('#' + key + ' button');\n",
              "          quickchartButtonEl.disabled = true;  // To prevent multiple clicks.\n",
              "          quickchartButtonEl.classList.add('colab-df-spinner');\n",
              "          try {\n",
              "            const charts = await google.colab.kernel.invokeFunction(\n",
              "                'suggestCharts', [key], {});\n",
              "          } catch (error) {\n",
              "            console.error('Error during call to suggestCharts:', error);\n",
              "          }\n",
              "          quickchartButtonEl.classList.remove('colab-df-spinner');\n",
              "          quickchartButtonEl.classList.add('colab-df-quickchart-complete');\n",
              "        }\n",
              "        (() => {\n",
              "          let quickchartButtonEl =\n",
              "            document.querySelector('#df-025b861e-0498-4ee5-8b16-6a9859ecb8a7 button');\n",
              "          quickchartButtonEl.style.display =\n",
              "            google.colab.kernel.accessAllowed ? 'block' : 'none';\n",
              "        })();\n",
              "      </script>\n",
              "    </div>\n",
              "\n",
              "    </div>\n",
              "  </div>\n"
            ],
            "application/vnd.google.colaboratory.intrinsic+json": {
              "type": "dataframe",
              "variable_name": "mat_preg",
              "summary": "{\n  \"name\": \"mat_preg\",\n  \"rows\": 998,\n  \"fields\": [\n    {\n      \"column\": \"Name\",\n      \"properties\": {\n        \"dtype\": \"category\",\n        \"num_unique_values\": 350,\n        \"samples\": [\n          \"Shapla\",\n          \"Rekha Moni\",\n          \"Nurbanu\"\n        ],\n        \"semantic_type\": \"\",\n        \"description\": \"\"\n      }\n    },\n    {\n      \"column\": \"Age\",\n      \"properties\": {\n        \"dtype\": \"number\",\n        \"std\": 3,\n        \"min\": 18,\n        \"max\": 32,\n        \"num_unique_values\": 13,\n        \"samples\": [\n          27,\n          26,\n          18\n        ],\n        \"semantic_type\": \"\",\n        \"description\": \"\"\n      }\n    },\n    {\n      \"column\": \"Gravida\",\n      \"properties\": {\n        \"dtype\": \"category\",\n        \"num_unique_values\": 3,\n        \"samples\": [\n          \"1st\",\n          \"2nd\",\n          \"3rd\"\n        ],\n        \"semantic_type\": \"\",\n        \"description\": \"\"\n      }\n    },\n    {\n      \"column\": \"TranslationTT Injection\",\n      \"properties\": {\n        \"dtype\": \"category\",\n        \"num_unique_values\": 3,\n        \"samples\": [\n          \"1st\",\n          \"2nd\",\n          \"3rd\"\n        ],\n        \"semantic_type\": \"\",\n        \"description\": \"\"\n      }\n    },\n    {\n      \"column\": \"Gestational Age\",\n      \"properties\": {\n        \"dtype\": \"category\",\n        \"num_unique_values\": 11,\n        \"samples\": [\n          \"28 week\",\n          \"38 week\",\n          \"24 week\"\n        ],\n        \"semantic_type\": \"\",\n        \"description\": \"\"\n      }\n    },\n    {\n      \"column\": \"Weight\",\n      \"properties\": {\n        \"dtype\": \"category\",\n        \"num_unique_values\": 14,\n        \"samples\": [\n          \"56 kg\",\n          \"49 kg\",\n          \"50 kg\"\n        ],\n        \"semantic_type\": \"\",\n        \"description\": \"\"\n      }\n    },\n    {\n      \"column\": \"Height\",\n      \"properties\": {\n        \"dtype\": \"category\",\n        \"num_unique_values\": 7,\n        \"samples\": [\n          \"5.3''\",\n          \"5.2''\",\n          \"5.5''\"\n        ],\n        \"semantic_type\": \"\",\n        \"description\": \"\"\n      }\n    },\n    {\n      \"column\": \"Blood Pressure\",\n      \"properties\": {\n        \"dtype\": \"category\",\n        \"num_unique_values\": 11,\n        \"samples\": [\n          \"120/60\",\n          \"100/60\",\n          \"110/60\"\n        ],\n        \"semantic_type\": \"\",\n        \"description\": \"\"\n      }\n    },\n    {\n      \"column\": \"Anemia\",\n      \"properties\": {\n        \"dtype\": \"category\",\n        \"num_unique_values\": 2,\n        \"samples\": [\n          \"Medium\",\n          \"Minimal\"\n        ],\n        \"semantic_type\": \"\",\n        \"description\": \"\"\n      }\n    },\n    {\n      \"column\": \"Jaundice\",\n      \"properties\": {\n        \"dtype\": \"category\",\n        \"num_unique_values\": 2,\n        \"samples\": [\n          \"Medium\",\n          \"Minimal\"\n        ],\n        \"semantic_type\": \"\",\n        \"description\": \"\"\n      }\n    },\n    {\n      \"column\": \"Fetal Position\",\n      \"properties\": {\n        \"dtype\": \"category\",\n        \"num_unique_values\": 2,\n        \"samples\": [\n          \"Abnormal\",\n          \"Normal\"\n        ],\n        \"semantic_type\": \"\",\n        \"description\": \"\"\n      }\n    },\n    {\n      \"column\": \"Fetal Movement\",\n      \"properties\": {\n        \"dtype\": \"category\",\n        \"num_unique_values\": 1,\n        \"samples\": [\n          \"Normal\"\n        ],\n        \"semantic_type\": \"\",\n        \"description\": \"\"\n      }\n    },\n    {\n      \"column\": \"Fetal Heart Rate\",\n      \"properties\": {\n        \"dtype\": \"category\",\n        \"num_unique_values\": 5,\n        \"samples\": [\n          \"130m\"\n        ],\n        \"semantic_type\": \"\",\n        \"description\": \"\"\n      }\n    },\n    {\n      \"column\": \"Urine Test \\u2013 Albumin\",\n      \"properties\": {\n        \"dtype\": \"category\",\n        \"num_unique_values\": 3,\n        \"samples\": [\n          \"Higher\"\n        ],\n        \"semantic_type\": \"\",\n        \"description\": \"\"\n      }\n    },\n    {\n      \"column\": \"Urine Test \\u2013 Sugar\",\n      \"properties\": {\n        \"dtype\": \"category\",\n        \"num_unique_values\": 2,\n        \"samples\": [\n          \"No\"\n        ],\n        \"semantic_type\": \"\",\n        \"description\": \"\"\n      }\n    },\n    {\n      \"column\": \"VDRL\",\n      \"properties\": {\n        \"dtype\": \"category\",\n        \"num_unique_values\": 2,\n        \"samples\": [\n          \"Positive\"\n        ],\n        \"semantic_type\": \"\",\n        \"description\": \"\"\n      }\n    },\n    {\n      \"column\": \"HRsAG\",\n      \"properties\": {\n        \"dtype\": \"category\",\n        \"num_unique_values\": 2,\n        \"samples\": [\n          \"Positive\"\n        ],\n        \"semantic_type\": \"\",\n        \"description\": \"\"\n      }\n    },\n    {\n      \"column\": \"High-Risk Pregnancy\",\n      \"properties\": {\n        \"dtype\": \"category\",\n        \"num_unique_values\": 2,\n        \"samples\": [\n          \"No\"\n        ],\n        \"semantic_type\": \"\",\n        \"description\": \"\"\n      }\n    }\n  ]\n}"
            }
          },
          "metadata": {},
          "execution_count": 69
        }
      ],
      "source": [
        "# Reading the dataset\n",
        "mat_preg.head()"
      ]
    },
    {
      "cell_type": "code",
      "source": [
        "#Create a copy of the dataset\n",
        "MartenalPregnacy = mat_preg.copy()"
      ],
      "metadata": {
        "id": "YNWXCCvlBuul"
      },
      "execution_count": 70,
      "outputs": []
    },
    {
      "cell_type": "markdown",
      "metadata": {
        "id": "hG9rJqgy22sY"
      },
      "source": [
        "#### Checking the shape of the dataset"
      ]
    },
    {
      "cell_type": "code",
      "execution_count": 71,
      "metadata": {
        "colab": {
          "base_uri": "https://localhost:8080/"
        },
        "id": "MPxX8HvB22sa",
        "outputId": "ee18e2b5-2f89-4b3b-ba69-19e23a3501bf"
      },
      "outputs": [
        {
          "output_type": "stream",
          "name": "stdout",
          "text": [
            "The dataset shape (998, 18)\n"
          ]
        }
      ],
      "source": [
        "# Shape of the dataset\n",
        "print(\"The dataset shape\", MartenalPregnacy.shape)"
      ]
    },
    {
      "cell_type": "markdown",
      "metadata": {
        "id": "webvcfHL8Oif"
      },
      "source": [
        "#### Checking duplicates"
      ]
    },
    {
      "cell_type": "code",
      "execution_count": 72,
      "metadata": {
        "colab": {
          "base_uri": "https://localhost:8080/"
        },
        "id": "Eg43_mBI8Sde",
        "outputId": "e49bb3b5-9ca3-46df-9f0b-313604de4255"
      },
      "outputs": [
        {
          "output_type": "stream",
          "name": "stdout",
          "text": [
            "There are 0 duplicates in the dataset\n"
          ]
        }
      ],
      "source": [
        "# Check for duplicates\n",
        "dup_T = MartenalPregnacy.duplicated().sum()\n",
        "print(\"There are {} duplicates in the dataset\".format(dup_T))"
      ]
    },
    {
      "cell_type": "markdown",
      "metadata": {
        "id": "SFVkDvVK22sb"
      },
      "source": [
        "#### Check the data types of the columns in the dataset."
      ]
    },
    {
      "cell_type": "code",
      "execution_count": 73,
      "metadata": {
        "colab": {
          "base_uri": "https://localhost:8080/"
        },
        "id": "NCsdnhKm22sc",
        "outputId": "ae1806d5-bfe5-4188-ebe8-66c7b3a469e5"
      },
      "outputs": [
        {
          "output_type": "stream",
          "name": "stdout",
          "text": [
            "<class 'pandas.core.frame.DataFrame'>\n",
            "RangeIndex: 998 entries, 0 to 997\n",
            "Data columns (total 18 columns):\n",
            " #   Column                   Non-Null Count  Dtype \n",
            "---  ------                   --------------  ----- \n",
            " 0   Name                     998 non-null    object\n",
            " 1   Age                      998 non-null    int64 \n",
            " 2   Gravida                  998 non-null    object\n",
            " 3   TranslationTT Injection  998 non-null    object\n",
            " 4   Gestational Age          998 non-null    object\n",
            " 5   Weight                   998 non-null    object\n",
            " 6   Height                   998 non-null    object\n",
            " 7   Blood Pressure           998 non-null    object\n",
            " 8   Anemia                   123 non-null    object\n",
            " 9   Jaundice                 12 non-null     object\n",
            " 10  Fetal Position           998 non-null    object\n",
            " 11  Fetal Movement           998 non-null    object\n",
            " 12  Fetal Heart Rate         998 non-null    object\n",
            " 13  Urine Test – Albumin     134 non-null    object\n",
            " 14  Urine Test – Sugar       998 non-null    object\n",
            " 15  VDRL                     998 non-null    object\n",
            " 16  HRsAG                    998 non-null    object\n",
            " 17  High-Risk Pregnancy      998 non-null    object\n",
            "dtypes: int64(1), object(17)\n",
            "memory usage: 140.5+ KB\n"
          ]
        }
      ],
      "source": [
        "MartenalPregnacy.info()"
      ]
    },
    {
      "cell_type": "markdown",
      "metadata": {
        "id": "_8Na7hyj22sh"
      },
      "source": [
        "#### Statistical summary"
      ]
    },
    {
      "cell_type": "code",
      "execution_count": 74,
      "metadata": {
        "colab": {
          "base_uri": "https://localhost:8080/",
          "height": 0
        },
        "id": "IkHZBnv622sk",
        "outputId": "af71b8ae-c6b8-4737-e19f-1a3882f2c462"
      },
      "outputs": [
        {
          "output_type": "execute_result",
          "data": {
            "text/plain": [
              "      count   mean   std    min    25%    50%    75%    max\n",
              "Age 998.000 22.963 3.568 18.000 20.000 22.000 25.000 32.000"
            ],
            "text/html": [
              "\n",
              "  <div id=\"df-c9d028d7-fda1-4307-8074-af61cc05cc8f\" class=\"colab-df-container\">\n",
              "    <div>\n",
              "<style scoped>\n",
              "    .dataframe tbody tr th:only-of-type {\n",
              "        vertical-align: middle;\n",
              "    }\n",
              "\n",
              "    .dataframe tbody tr th {\n",
              "        vertical-align: top;\n",
              "    }\n",
              "\n",
              "    .dataframe thead th {\n",
              "        text-align: right;\n",
              "    }\n",
              "</style>\n",
              "<table border=\"1\" class=\"dataframe\">\n",
              "  <thead>\n",
              "    <tr style=\"text-align: right;\">\n",
              "      <th></th>\n",
              "      <th>count</th>\n",
              "      <th>mean</th>\n",
              "      <th>std</th>\n",
              "      <th>min</th>\n",
              "      <th>25%</th>\n",
              "      <th>50%</th>\n",
              "      <th>75%</th>\n",
              "      <th>max</th>\n",
              "    </tr>\n",
              "  </thead>\n",
              "  <tbody>\n",
              "    <tr>\n",
              "      <th>Age</th>\n",
              "      <td>998.000</td>\n",
              "      <td>22.963</td>\n",
              "      <td>3.568</td>\n",
              "      <td>18.000</td>\n",
              "      <td>20.000</td>\n",
              "      <td>22.000</td>\n",
              "      <td>25.000</td>\n",
              "      <td>32.000</td>\n",
              "    </tr>\n",
              "  </tbody>\n",
              "</table>\n",
              "</div>\n",
              "    <div class=\"colab-df-buttons\">\n",
              "\n",
              "  <div class=\"colab-df-container\">\n",
              "    <button class=\"colab-df-convert\" onclick=\"convertToInteractive('df-c9d028d7-fda1-4307-8074-af61cc05cc8f')\"\n",
              "            title=\"Convert this dataframe to an interactive table.\"\n",
              "            style=\"display:none;\">\n",
              "\n",
              "  <svg xmlns=\"http://www.w3.org/2000/svg\" height=\"24px\" viewBox=\"0 -960 960 960\">\n",
              "    <path d=\"M120-120v-720h720v720H120Zm60-500h600v-160H180v160Zm220 220h160v-160H400v160Zm0 220h160v-160H400v160ZM180-400h160v-160H180v160Zm440 0h160v-160H620v160ZM180-180h160v-160H180v160Zm440 0h160v-160H620v160Z\"/>\n",
              "  </svg>\n",
              "    </button>\n",
              "\n",
              "  <style>\n",
              "    .colab-df-container {\n",
              "      display:flex;\n",
              "      gap: 12px;\n",
              "    }\n",
              "\n",
              "    .colab-df-convert {\n",
              "      background-color: #E8F0FE;\n",
              "      border: none;\n",
              "      border-radius: 50%;\n",
              "      cursor: pointer;\n",
              "      display: none;\n",
              "      fill: #1967D2;\n",
              "      height: 32px;\n",
              "      padding: 0 0 0 0;\n",
              "      width: 32px;\n",
              "    }\n",
              "\n",
              "    .colab-df-convert:hover {\n",
              "      background-color: #E2EBFA;\n",
              "      box-shadow: 0px 1px 2px rgba(60, 64, 67, 0.3), 0px 1px 3px 1px rgba(60, 64, 67, 0.15);\n",
              "      fill: #174EA6;\n",
              "    }\n",
              "\n",
              "    .colab-df-buttons div {\n",
              "      margin-bottom: 4px;\n",
              "    }\n",
              "\n",
              "    [theme=dark] .colab-df-convert {\n",
              "      background-color: #3B4455;\n",
              "      fill: #D2E3FC;\n",
              "    }\n",
              "\n",
              "    [theme=dark] .colab-df-convert:hover {\n",
              "      background-color: #434B5C;\n",
              "      box-shadow: 0px 1px 3px 1px rgba(0, 0, 0, 0.15);\n",
              "      filter: drop-shadow(0px 1px 2px rgba(0, 0, 0, 0.3));\n",
              "      fill: #FFFFFF;\n",
              "    }\n",
              "  </style>\n",
              "\n",
              "    <script>\n",
              "      const buttonEl =\n",
              "        document.querySelector('#df-c9d028d7-fda1-4307-8074-af61cc05cc8f button.colab-df-convert');\n",
              "      buttonEl.style.display =\n",
              "        google.colab.kernel.accessAllowed ? 'block' : 'none';\n",
              "\n",
              "      async function convertToInteractive(key) {\n",
              "        const element = document.querySelector('#df-c9d028d7-fda1-4307-8074-af61cc05cc8f');\n",
              "        const dataTable =\n",
              "          await google.colab.kernel.invokeFunction('convertToInteractive',\n",
              "                                                    [key], {});\n",
              "        if (!dataTable) return;\n",
              "\n",
              "        const docLinkHtml = 'Like what you see? Visit the ' +\n",
              "          '<a target=\"_blank\" href=https://colab.research.google.com/notebooks/data_table.ipynb>data table notebook</a>'\n",
              "          + ' to learn more about interactive tables.';\n",
              "        element.innerHTML = '';\n",
              "        dataTable['output_type'] = 'display_data';\n",
              "        await google.colab.output.renderOutput(dataTable, element);\n",
              "        const docLink = document.createElement('div');\n",
              "        docLink.innerHTML = docLinkHtml;\n",
              "        element.appendChild(docLink);\n",
              "      }\n",
              "    </script>\n",
              "  </div>\n",
              "\n",
              "\n",
              "    </div>\n",
              "  </div>\n"
            ],
            "application/vnd.google.colaboratory.intrinsic+json": {
              "type": "dataframe",
              "summary": "{\n  \"name\": \"MartenalPregnacy\",\n  \"rows\": 1,\n  \"fields\": [\n    {\n      \"column\": \"count\",\n      \"properties\": {\n        \"dtype\": \"number\",\n        \"std\": null,\n        \"min\": 998.0,\n        \"max\": 998.0,\n        \"num_unique_values\": 1,\n        \"samples\": [\n          998.0\n        ],\n        \"semantic_type\": \"\",\n        \"description\": \"\"\n      }\n    },\n    {\n      \"column\": \"mean\",\n      \"properties\": {\n        \"dtype\": \"number\",\n        \"std\": null,\n        \"min\": 22.962925851703407,\n        \"max\": 22.962925851703407,\n        \"num_unique_values\": 1,\n        \"samples\": [\n          22.962925851703407\n        ],\n        \"semantic_type\": \"\",\n        \"description\": \"\"\n      }\n    },\n    {\n      \"column\": \"std\",\n      \"properties\": {\n        \"dtype\": \"number\",\n        \"std\": null,\n        \"min\": 3.568168119315053,\n        \"max\": 3.568168119315053,\n        \"num_unique_values\": 1,\n        \"samples\": [\n          3.568168119315053\n        ],\n        \"semantic_type\": \"\",\n        \"description\": \"\"\n      }\n    },\n    {\n      \"column\": \"min\",\n      \"properties\": {\n        \"dtype\": \"number\",\n        \"std\": null,\n        \"min\": 18.0,\n        \"max\": 18.0,\n        \"num_unique_values\": 1,\n        \"samples\": [\n          18.0\n        ],\n        \"semantic_type\": \"\",\n        \"description\": \"\"\n      }\n    },\n    {\n      \"column\": \"25%\",\n      \"properties\": {\n        \"dtype\": \"number\",\n        \"std\": null,\n        \"min\": 20.0,\n        \"max\": 20.0,\n        \"num_unique_values\": 1,\n        \"samples\": [\n          20.0\n        ],\n        \"semantic_type\": \"\",\n        \"description\": \"\"\n      }\n    },\n    {\n      \"column\": \"50%\",\n      \"properties\": {\n        \"dtype\": \"number\",\n        \"std\": null,\n        \"min\": 22.0,\n        \"max\": 22.0,\n        \"num_unique_values\": 1,\n        \"samples\": [\n          22.0\n        ],\n        \"semantic_type\": \"\",\n        \"description\": \"\"\n      }\n    },\n    {\n      \"column\": \"75%\",\n      \"properties\": {\n        \"dtype\": \"number\",\n        \"std\": null,\n        \"min\": 25.0,\n        \"max\": 25.0,\n        \"num_unique_values\": 1,\n        \"samples\": [\n          25.0\n        ],\n        \"semantic_type\": \"\",\n        \"description\": \"\"\n      }\n    },\n    {\n      \"column\": \"max\",\n      \"properties\": {\n        \"dtype\": \"number\",\n        \"std\": null,\n        \"min\": 32.0,\n        \"max\": 32.0,\n        \"num_unique_values\": 1,\n        \"samples\": [\n          32.0\n        ],\n        \"semantic_type\": \"\",\n        \"description\": \"\"\n      }\n    }\n  ]\n}"
            }
          },
          "metadata": {},
          "execution_count": 74
        }
      ],
      "source": [
        "# Check the statistical sumamry\n",
        "MartenalPregnacy.describe().T"
      ]
    },
    {
      "cell_type": "markdown",
      "metadata": {
        "id": "uYkbQvGY22sn"
      },
      "source": [
        "**Observations**\n",
        "\n",
        "- The minimum `Age` is `18` with maximum of  `32` years\n"
      ]
    },
    {
      "cell_type": "code",
      "execution_count": 75,
      "metadata": {
        "colab": {
          "base_uri": "https://localhost:8080/",
          "height": 0
        },
        "id": "r7uROjnTfnFj",
        "outputId": "e707c255-bbf1-4fa1-8fbc-d9fc86410a8a"
      },
      "outputs": [
        {
          "output_type": "execute_result",
          "data": {
            "text/plain": [
              "                        count unique       top freq\n",
              "Name                      998    350      Runa   18\n",
              "Gravida                   998      3       1st  837\n",
              "TranslationTT Injection   998      3       2nd  457\n",
              "Gestational Age           998     11   30 week  244\n",
              "Weight                    998     14     60 kg  105\n",
              "Height                    998      7     5.3''  231\n",
              "Blood Pressure            998     11    100/60  202\n",
              "Anemia                    123      2   Minimal   62\n",
              "Jaundice                   12      2   Minimal    8\n",
              "Fetal Position            998      2    Normal  992\n",
              "Fetal Movement            998      1    Normal  998\n",
              "Fetal Heart Rate          998      5      130m  363\n",
              "Urine Test – Albumin      134      3    Medium   48\n",
              "Urine Test – Sugar        998      2       Yes  890\n",
              "VDRL                      998      2  Negative  499\n",
              "HRsAG                     998      2  Negative  889\n",
              "High-Risk Pregnancy       998      2       Yes  666"
            ],
            "text/html": [
              "\n",
              "  <div id=\"df-bb9f8fff-bea4-4a44-a29f-fb1c981bef2e\" class=\"colab-df-container\">\n",
              "    <div>\n",
              "<style scoped>\n",
              "    .dataframe tbody tr th:only-of-type {\n",
              "        vertical-align: middle;\n",
              "    }\n",
              "\n",
              "    .dataframe tbody tr th {\n",
              "        vertical-align: top;\n",
              "    }\n",
              "\n",
              "    .dataframe thead th {\n",
              "        text-align: right;\n",
              "    }\n",
              "</style>\n",
              "<table border=\"1\" class=\"dataframe\">\n",
              "  <thead>\n",
              "    <tr style=\"text-align: right;\">\n",
              "      <th></th>\n",
              "      <th>count</th>\n",
              "      <th>unique</th>\n",
              "      <th>top</th>\n",
              "      <th>freq</th>\n",
              "    </tr>\n",
              "  </thead>\n",
              "  <tbody>\n",
              "    <tr>\n",
              "      <th>Name</th>\n",
              "      <td>998</td>\n",
              "      <td>350</td>\n",
              "      <td>Runa</td>\n",
              "      <td>18</td>\n",
              "    </tr>\n",
              "    <tr>\n",
              "      <th>Gravida</th>\n",
              "      <td>998</td>\n",
              "      <td>3</td>\n",
              "      <td>1st</td>\n",
              "      <td>837</td>\n",
              "    </tr>\n",
              "    <tr>\n",
              "      <th>TranslationTT Injection</th>\n",
              "      <td>998</td>\n",
              "      <td>3</td>\n",
              "      <td>2nd</td>\n",
              "      <td>457</td>\n",
              "    </tr>\n",
              "    <tr>\n",
              "      <th>Gestational Age</th>\n",
              "      <td>998</td>\n",
              "      <td>11</td>\n",
              "      <td>30 week</td>\n",
              "      <td>244</td>\n",
              "    </tr>\n",
              "    <tr>\n",
              "      <th>Weight</th>\n",
              "      <td>998</td>\n",
              "      <td>14</td>\n",
              "      <td>60 kg</td>\n",
              "      <td>105</td>\n",
              "    </tr>\n",
              "    <tr>\n",
              "      <th>Height</th>\n",
              "      <td>998</td>\n",
              "      <td>7</td>\n",
              "      <td>5.3''</td>\n",
              "      <td>231</td>\n",
              "    </tr>\n",
              "    <tr>\n",
              "      <th>Blood Pressure</th>\n",
              "      <td>998</td>\n",
              "      <td>11</td>\n",
              "      <td>100/60</td>\n",
              "      <td>202</td>\n",
              "    </tr>\n",
              "    <tr>\n",
              "      <th>Anemia</th>\n",
              "      <td>123</td>\n",
              "      <td>2</td>\n",
              "      <td>Minimal</td>\n",
              "      <td>62</td>\n",
              "    </tr>\n",
              "    <tr>\n",
              "      <th>Jaundice</th>\n",
              "      <td>12</td>\n",
              "      <td>2</td>\n",
              "      <td>Minimal</td>\n",
              "      <td>8</td>\n",
              "    </tr>\n",
              "    <tr>\n",
              "      <th>Fetal Position</th>\n",
              "      <td>998</td>\n",
              "      <td>2</td>\n",
              "      <td>Normal</td>\n",
              "      <td>992</td>\n",
              "    </tr>\n",
              "    <tr>\n",
              "      <th>Fetal Movement</th>\n",
              "      <td>998</td>\n",
              "      <td>1</td>\n",
              "      <td>Normal</td>\n",
              "      <td>998</td>\n",
              "    </tr>\n",
              "    <tr>\n",
              "      <th>Fetal Heart Rate</th>\n",
              "      <td>998</td>\n",
              "      <td>5</td>\n",
              "      <td>130m</td>\n",
              "      <td>363</td>\n",
              "    </tr>\n",
              "    <tr>\n",
              "      <th>Urine Test – Albumin</th>\n",
              "      <td>134</td>\n",
              "      <td>3</td>\n",
              "      <td>Medium</td>\n",
              "      <td>48</td>\n",
              "    </tr>\n",
              "    <tr>\n",
              "      <th>Urine Test – Sugar</th>\n",
              "      <td>998</td>\n",
              "      <td>2</td>\n",
              "      <td>Yes</td>\n",
              "      <td>890</td>\n",
              "    </tr>\n",
              "    <tr>\n",
              "      <th>VDRL</th>\n",
              "      <td>998</td>\n",
              "      <td>2</td>\n",
              "      <td>Negative</td>\n",
              "      <td>499</td>\n",
              "    </tr>\n",
              "    <tr>\n",
              "      <th>HRsAG</th>\n",
              "      <td>998</td>\n",
              "      <td>2</td>\n",
              "      <td>Negative</td>\n",
              "      <td>889</td>\n",
              "    </tr>\n",
              "    <tr>\n",
              "      <th>High-Risk Pregnancy</th>\n",
              "      <td>998</td>\n",
              "      <td>2</td>\n",
              "      <td>Yes</td>\n",
              "      <td>666</td>\n",
              "    </tr>\n",
              "  </tbody>\n",
              "</table>\n",
              "</div>\n",
              "    <div class=\"colab-df-buttons\">\n",
              "\n",
              "  <div class=\"colab-df-container\">\n",
              "    <button class=\"colab-df-convert\" onclick=\"convertToInteractive('df-bb9f8fff-bea4-4a44-a29f-fb1c981bef2e')\"\n",
              "            title=\"Convert this dataframe to an interactive table.\"\n",
              "            style=\"display:none;\">\n",
              "\n",
              "  <svg xmlns=\"http://www.w3.org/2000/svg\" height=\"24px\" viewBox=\"0 -960 960 960\">\n",
              "    <path d=\"M120-120v-720h720v720H120Zm60-500h600v-160H180v160Zm220 220h160v-160H400v160Zm0 220h160v-160H400v160ZM180-400h160v-160H180v160Zm440 0h160v-160H620v160ZM180-180h160v-160H180v160Zm440 0h160v-160H620v160Z\"/>\n",
              "  </svg>\n",
              "    </button>\n",
              "\n",
              "  <style>\n",
              "    .colab-df-container {\n",
              "      display:flex;\n",
              "      gap: 12px;\n",
              "    }\n",
              "\n",
              "    .colab-df-convert {\n",
              "      background-color: #E8F0FE;\n",
              "      border: none;\n",
              "      border-radius: 50%;\n",
              "      cursor: pointer;\n",
              "      display: none;\n",
              "      fill: #1967D2;\n",
              "      height: 32px;\n",
              "      padding: 0 0 0 0;\n",
              "      width: 32px;\n",
              "    }\n",
              "\n",
              "    .colab-df-convert:hover {\n",
              "      background-color: #E2EBFA;\n",
              "      box-shadow: 0px 1px 2px rgba(60, 64, 67, 0.3), 0px 1px 3px 1px rgba(60, 64, 67, 0.15);\n",
              "      fill: #174EA6;\n",
              "    }\n",
              "\n",
              "    .colab-df-buttons div {\n",
              "      margin-bottom: 4px;\n",
              "    }\n",
              "\n",
              "    [theme=dark] .colab-df-convert {\n",
              "      background-color: #3B4455;\n",
              "      fill: #D2E3FC;\n",
              "    }\n",
              "\n",
              "    [theme=dark] .colab-df-convert:hover {\n",
              "      background-color: #434B5C;\n",
              "      box-shadow: 0px 1px 3px 1px rgba(0, 0, 0, 0.15);\n",
              "      filter: drop-shadow(0px 1px 2px rgba(0, 0, 0, 0.3));\n",
              "      fill: #FFFFFF;\n",
              "    }\n",
              "  </style>\n",
              "\n",
              "    <script>\n",
              "      const buttonEl =\n",
              "        document.querySelector('#df-bb9f8fff-bea4-4a44-a29f-fb1c981bef2e button.colab-df-convert');\n",
              "      buttonEl.style.display =\n",
              "        google.colab.kernel.accessAllowed ? 'block' : 'none';\n",
              "\n",
              "      async function convertToInteractive(key) {\n",
              "        const element = document.querySelector('#df-bb9f8fff-bea4-4a44-a29f-fb1c981bef2e');\n",
              "        const dataTable =\n",
              "          await google.colab.kernel.invokeFunction('convertToInteractive',\n",
              "                                                    [key], {});\n",
              "        if (!dataTable) return;\n",
              "\n",
              "        const docLinkHtml = 'Like what you see? Visit the ' +\n",
              "          '<a target=\"_blank\" href=https://colab.research.google.com/notebooks/data_table.ipynb>data table notebook</a>'\n",
              "          + ' to learn more about interactive tables.';\n",
              "        element.innerHTML = '';\n",
              "        dataTable['output_type'] = 'display_data';\n",
              "        await google.colab.output.renderOutput(dataTable, element);\n",
              "        const docLink = document.createElement('div');\n",
              "        docLink.innerHTML = docLinkHtml;\n",
              "        element.appendChild(docLink);\n",
              "      }\n",
              "    </script>\n",
              "  </div>\n",
              "\n",
              "\n",
              "    <div id=\"df-257b697c-c7f1-4758-afee-f577bf3de011\">\n",
              "      <button class=\"colab-df-quickchart\" onclick=\"quickchart('df-257b697c-c7f1-4758-afee-f577bf3de011')\"\n",
              "                title=\"Suggest charts\"\n",
              "                style=\"display:none;\">\n",
              "\n",
              "<svg xmlns=\"http://www.w3.org/2000/svg\" height=\"24px\"viewBox=\"0 0 24 24\"\n",
              "     width=\"24px\">\n",
              "    <g>\n",
              "        <path d=\"M19 3H5c-1.1 0-2 .9-2 2v14c0 1.1.9 2 2 2h14c1.1 0 2-.9 2-2V5c0-1.1-.9-2-2-2zM9 17H7v-7h2v7zm4 0h-2V7h2v10zm4 0h-2v-4h2v4z\"/>\n",
              "    </g>\n",
              "</svg>\n",
              "      </button>\n",
              "\n",
              "<style>\n",
              "  .colab-df-quickchart {\n",
              "      --bg-color: #E8F0FE;\n",
              "      --fill-color: #1967D2;\n",
              "      --hover-bg-color: #E2EBFA;\n",
              "      --hover-fill-color: #174EA6;\n",
              "      --disabled-fill-color: #AAA;\n",
              "      --disabled-bg-color: #DDD;\n",
              "  }\n",
              "\n",
              "  [theme=dark] .colab-df-quickchart {\n",
              "      --bg-color: #3B4455;\n",
              "      --fill-color: #D2E3FC;\n",
              "      --hover-bg-color: #434B5C;\n",
              "      --hover-fill-color: #FFFFFF;\n",
              "      --disabled-bg-color: #3B4455;\n",
              "      --disabled-fill-color: #666;\n",
              "  }\n",
              "\n",
              "  .colab-df-quickchart {\n",
              "    background-color: var(--bg-color);\n",
              "    border: none;\n",
              "    border-radius: 50%;\n",
              "    cursor: pointer;\n",
              "    display: none;\n",
              "    fill: var(--fill-color);\n",
              "    height: 32px;\n",
              "    padding: 0;\n",
              "    width: 32px;\n",
              "  }\n",
              "\n",
              "  .colab-df-quickchart:hover {\n",
              "    background-color: var(--hover-bg-color);\n",
              "    box-shadow: 0 1px 2px rgba(60, 64, 67, 0.3), 0 1px 3px 1px rgba(60, 64, 67, 0.15);\n",
              "    fill: var(--button-hover-fill-color);\n",
              "  }\n",
              "\n",
              "  .colab-df-quickchart-complete:disabled,\n",
              "  .colab-df-quickchart-complete:disabled:hover {\n",
              "    background-color: var(--disabled-bg-color);\n",
              "    fill: var(--disabled-fill-color);\n",
              "    box-shadow: none;\n",
              "  }\n",
              "\n",
              "  .colab-df-spinner {\n",
              "    border: 2px solid var(--fill-color);\n",
              "    border-color: transparent;\n",
              "    border-bottom-color: var(--fill-color);\n",
              "    animation:\n",
              "      spin 1s steps(1) infinite;\n",
              "  }\n",
              "\n",
              "  @keyframes spin {\n",
              "    0% {\n",
              "      border-color: transparent;\n",
              "      border-bottom-color: var(--fill-color);\n",
              "      border-left-color: var(--fill-color);\n",
              "    }\n",
              "    20% {\n",
              "      border-color: transparent;\n",
              "      border-left-color: var(--fill-color);\n",
              "      border-top-color: var(--fill-color);\n",
              "    }\n",
              "    30% {\n",
              "      border-color: transparent;\n",
              "      border-left-color: var(--fill-color);\n",
              "      border-top-color: var(--fill-color);\n",
              "      border-right-color: var(--fill-color);\n",
              "    }\n",
              "    40% {\n",
              "      border-color: transparent;\n",
              "      border-right-color: var(--fill-color);\n",
              "      border-top-color: var(--fill-color);\n",
              "    }\n",
              "    60% {\n",
              "      border-color: transparent;\n",
              "      border-right-color: var(--fill-color);\n",
              "    }\n",
              "    80% {\n",
              "      border-color: transparent;\n",
              "      border-right-color: var(--fill-color);\n",
              "      border-bottom-color: var(--fill-color);\n",
              "    }\n",
              "    90% {\n",
              "      border-color: transparent;\n",
              "      border-bottom-color: var(--fill-color);\n",
              "    }\n",
              "  }\n",
              "</style>\n",
              "\n",
              "      <script>\n",
              "        async function quickchart(key) {\n",
              "          const quickchartButtonEl =\n",
              "            document.querySelector('#' + key + ' button');\n",
              "          quickchartButtonEl.disabled = true;  // To prevent multiple clicks.\n",
              "          quickchartButtonEl.classList.add('colab-df-spinner');\n",
              "          try {\n",
              "            const charts = await google.colab.kernel.invokeFunction(\n",
              "                'suggestCharts', [key], {});\n",
              "          } catch (error) {\n",
              "            console.error('Error during call to suggestCharts:', error);\n",
              "          }\n",
              "          quickchartButtonEl.classList.remove('colab-df-spinner');\n",
              "          quickchartButtonEl.classList.add('colab-df-quickchart-complete');\n",
              "        }\n",
              "        (() => {\n",
              "          let quickchartButtonEl =\n",
              "            document.querySelector('#df-257b697c-c7f1-4758-afee-f577bf3de011 button');\n",
              "          quickchartButtonEl.style.display =\n",
              "            google.colab.kernel.accessAllowed ? 'block' : 'none';\n",
              "        })();\n",
              "      </script>\n",
              "    </div>\n",
              "\n",
              "    </div>\n",
              "  </div>\n"
            ],
            "application/vnd.google.colaboratory.intrinsic+json": {
              "type": "dataframe",
              "summary": "{\n  \"name\": \"MartenalPregnacy\",\n  \"rows\": 17,\n  \"fields\": [\n    {\n      \"column\": \"count\",\n      \"properties\": {\n        \"dtype\": \"date\",\n        \"min\": \"12\",\n        \"max\": \"998\",\n        \"num_unique_values\": 4,\n        \"samples\": [\n          \"123\",\n          \"134\",\n          \"998\"\n        ],\n        \"semantic_type\": \"\",\n        \"description\": \"\"\n      }\n    },\n    {\n      \"column\": \"unique\",\n      \"properties\": {\n        \"dtype\": \"date\",\n        \"min\": 1,\n        \"max\": 350,\n        \"num_unique_values\": 8,\n        \"samples\": [\n          3,\n          2,\n          350\n        ],\n        \"semantic_type\": \"\",\n        \"description\": \"\"\n      }\n    },\n    {\n      \"column\": \"top\",\n      \"properties\": {\n        \"dtype\": \"string\",\n        \"num_unique_values\": 13,\n        \"samples\": [\n          \"Yes\",\n          \"130m\",\n          \"Runa\"\n        ],\n        \"semantic_type\": \"\",\n        \"description\": \"\"\n      }\n    },\n    {\n      \"column\": \"freq\",\n      \"properties\": {\n        \"dtype\": \"date\",\n        \"min\": \"8\",\n        \"max\": \"998\",\n        \"num_unique_values\": 17,\n        \"samples\": [\n          \"18\",\n          \"837\",\n          \"231\"\n        ],\n        \"semantic_type\": \"\",\n        \"description\": \"\"\n      }\n    }\n  ]\n}"
            }
          },
          "metadata": {},
          "execution_count": 75
        }
      ],
      "source": [
        "# Statistical sumamry for categorical variables\n",
        "MartenalPregnacy.describe(include=\"object\").T"
      ]
    },
    {
      "cell_type": "markdown",
      "source": [
        "#### Check for missing values"
      ],
      "metadata": {
        "id": "c4MeawGT0Bj0"
      }
    },
    {
      "cell_type": "code",
      "source": [
        "#Missing valaues in the dataset\n",
        "MartenalPregnacy.isna().sum()"
      ],
      "metadata": {
        "colab": {
          "base_uri": "https://localhost:8080/",
          "height": 648
        },
        "id": "LC5KBcpz0Fpg",
        "outputId": "e2016130-3707-454c-cf70-425c0d8d83ba"
      },
      "execution_count": 76,
      "outputs": [
        {
          "output_type": "execute_result",
          "data": {
            "text/plain": [
              "Name                         0\n",
              "Age                          0\n",
              "Gravida                      0\n",
              "TranslationTT Injection      0\n",
              "Gestational Age              0\n",
              "Weight                       0\n",
              "Height                       0\n",
              "Blood Pressure               0\n",
              "Anemia                     875\n",
              "Jaundice                   986\n",
              "Fetal Position               0\n",
              "Fetal Movement               0\n",
              "Fetal Heart Rate             0\n",
              "Urine Test – Albumin       864\n",
              "Urine Test – Sugar           0\n",
              "VDRL                         0\n",
              "HRsAG                        0\n",
              "High-Risk Pregnancy          0\n",
              "dtype: int64"
            ],
            "text/html": [
              "<div>\n",
              "<style scoped>\n",
              "    .dataframe tbody tr th:only-of-type {\n",
              "        vertical-align: middle;\n",
              "    }\n",
              "\n",
              "    .dataframe tbody tr th {\n",
              "        vertical-align: top;\n",
              "    }\n",
              "\n",
              "    .dataframe thead th {\n",
              "        text-align: right;\n",
              "    }\n",
              "</style>\n",
              "<table border=\"1\" class=\"dataframe\">\n",
              "  <thead>\n",
              "    <tr style=\"text-align: right;\">\n",
              "      <th></th>\n",
              "      <th>0</th>\n",
              "    </tr>\n",
              "  </thead>\n",
              "  <tbody>\n",
              "    <tr>\n",
              "      <th>Name</th>\n",
              "      <td>0</td>\n",
              "    </tr>\n",
              "    <tr>\n",
              "      <th>Age</th>\n",
              "      <td>0</td>\n",
              "    </tr>\n",
              "    <tr>\n",
              "      <th>Gravida</th>\n",
              "      <td>0</td>\n",
              "    </tr>\n",
              "    <tr>\n",
              "      <th>TranslationTT Injection</th>\n",
              "      <td>0</td>\n",
              "    </tr>\n",
              "    <tr>\n",
              "      <th>Gestational Age</th>\n",
              "      <td>0</td>\n",
              "    </tr>\n",
              "    <tr>\n",
              "      <th>Weight</th>\n",
              "      <td>0</td>\n",
              "    </tr>\n",
              "    <tr>\n",
              "      <th>Height</th>\n",
              "      <td>0</td>\n",
              "    </tr>\n",
              "    <tr>\n",
              "      <th>Blood Pressure</th>\n",
              "      <td>0</td>\n",
              "    </tr>\n",
              "    <tr>\n",
              "      <th>Anemia</th>\n",
              "      <td>875</td>\n",
              "    </tr>\n",
              "    <tr>\n",
              "      <th>Jaundice</th>\n",
              "      <td>986</td>\n",
              "    </tr>\n",
              "    <tr>\n",
              "      <th>Fetal Position</th>\n",
              "      <td>0</td>\n",
              "    </tr>\n",
              "    <tr>\n",
              "      <th>Fetal Movement</th>\n",
              "      <td>0</td>\n",
              "    </tr>\n",
              "    <tr>\n",
              "      <th>Fetal Heart Rate</th>\n",
              "      <td>0</td>\n",
              "    </tr>\n",
              "    <tr>\n",
              "      <th>Urine Test – Albumin</th>\n",
              "      <td>864</td>\n",
              "    </tr>\n",
              "    <tr>\n",
              "      <th>Urine Test – Sugar</th>\n",
              "      <td>0</td>\n",
              "    </tr>\n",
              "    <tr>\n",
              "      <th>VDRL</th>\n",
              "      <td>0</td>\n",
              "    </tr>\n",
              "    <tr>\n",
              "      <th>HRsAG</th>\n",
              "      <td>0</td>\n",
              "    </tr>\n",
              "    <tr>\n",
              "      <th>High-Risk Pregnancy</th>\n",
              "      <td>0</td>\n",
              "    </tr>\n",
              "  </tbody>\n",
              "</table>\n",
              "</div><br><label><b>dtype:</b> int64</label>"
            ]
          },
          "metadata": {},
          "execution_count": 76
        }
      ]
    },
    {
      "cell_type": "markdown",
      "metadata": {
        "id": "B_vf57-wfnFl"
      },
      "source": [
        "**Treating missing values**"
      ]
    },
    {
      "cell_type": "code",
      "execution_count": 77,
      "metadata": {
        "id": "06aCjyZSfnFm"
      },
      "outputs": [],
      "source": [
        "# identify the numeric and categrical columns\n",
        "'''\n",
        "For the following features, None, is not a missing vaue, it indicates that there\n",
        "was no detection.\n",
        "\n",
        "We will renames the features values as below.\n",
        "Anemia:  None : No Anemia Detected\n",
        "Jaundice: None : No Jaundice Detected\n",
        "Urine Test- Albumin: None : No Albumin Detected\n",
        "\n",
        "'''\n",
        "\n",
        "#Columns to fill NAN with Nornal\n",
        "col_r = ['Anemia', 'Jaundice', 'Urine Test – Albumin']\n",
        "MartenalPregnacy[col_r] = MartenalPregnacy[col_r].fillna('Normal')"
      ]
    },
    {
      "cell_type": "code",
      "source": [
        "#Check any other missing values\n",
        "MartenalPregnacy.isna().sum()"
      ],
      "metadata": {
        "colab": {
          "base_uri": "https://localhost:8080/",
          "height": 648
        },
        "id": "10mJXWpY5Y_c",
        "outputId": "5e3d2ec0-2b29-4822-a573-6446f5638c82"
      },
      "execution_count": 78,
      "outputs": [
        {
          "output_type": "execute_result",
          "data": {
            "text/plain": [
              "Name                       0\n",
              "Age                        0\n",
              "Gravida                    0\n",
              "TranslationTT Injection    0\n",
              "Gestational Age            0\n",
              "Weight                     0\n",
              "Height                     0\n",
              "Blood Pressure             0\n",
              "Anemia                     0\n",
              "Jaundice                   0\n",
              "Fetal Position             0\n",
              "Fetal Movement             0\n",
              "Fetal Heart Rate           0\n",
              "Urine Test – Albumin       0\n",
              "Urine Test – Sugar         0\n",
              "VDRL                       0\n",
              "HRsAG                      0\n",
              "High-Risk Pregnancy        0\n",
              "dtype: int64"
            ],
            "text/html": [
              "<div>\n",
              "<style scoped>\n",
              "    .dataframe tbody tr th:only-of-type {\n",
              "        vertical-align: middle;\n",
              "    }\n",
              "\n",
              "    .dataframe tbody tr th {\n",
              "        vertical-align: top;\n",
              "    }\n",
              "\n",
              "    .dataframe thead th {\n",
              "        text-align: right;\n",
              "    }\n",
              "</style>\n",
              "<table border=\"1\" class=\"dataframe\">\n",
              "  <thead>\n",
              "    <tr style=\"text-align: right;\">\n",
              "      <th></th>\n",
              "      <th>0</th>\n",
              "    </tr>\n",
              "  </thead>\n",
              "  <tbody>\n",
              "    <tr>\n",
              "      <th>Name</th>\n",
              "      <td>0</td>\n",
              "    </tr>\n",
              "    <tr>\n",
              "      <th>Age</th>\n",
              "      <td>0</td>\n",
              "    </tr>\n",
              "    <tr>\n",
              "      <th>Gravida</th>\n",
              "      <td>0</td>\n",
              "    </tr>\n",
              "    <tr>\n",
              "      <th>TranslationTT Injection</th>\n",
              "      <td>0</td>\n",
              "    </tr>\n",
              "    <tr>\n",
              "      <th>Gestational Age</th>\n",
              "      <td>0</td>\n",
              "    </tr>\n",
              "    <tr>\n",
              "      <th>Weight</th>\n",
              "      <td>0</td>\n",
              "    </tr>\n",
              "    <tr>\n",
              "      <th>Height</th>\n",
              "      <td>0</td>\n",
              "    </tr>\n",
              "    <tr>\n",
              "      <th>Blood Pressure</th>\n",
              "      <td>0</td>\n",
              "    </tr>\n",
              "    <tr>\n",
              "      <th>Anemia</th>\n",
              "      <td>0</td>\n",
              "    </tr>\n",
              "    <tr>\n",
              "      <th>Jaundice</th>\n",
              "      <td>0</td>\n",
              "    </tr>\n",
              "    <tr>\n",
              "      <th>Fetal Position</th>\n",
              "      <td>0</td>\n",
              "    </tr>\n",
              "    <tr>\n",
              "      <th>Fetal Movement</th>\n",
              "      <td>0</td>\n",
              "    </tr>\n",
              "    <tr>\n",
              "      <th>Fetal Heart Rate</th>\n",
              "      <td>0</td>\n",
              "    </tr>\n",
              "    <tr>\n",
              "      <th>Urine Test – Albumin</th>\n",
              "      <td>0</td>\n",
              "    </tr>\n",
              "    <tr>\n",
              "      <th>Urine Test – Sugar</th>\n",
              "      <td>0</td>\n",
              "    </tr>\n",
              "    <tr>\n",
              "      <th>VDRL</th>\n",
              "      <td>0</td>\n",
              "    </tr>\n",
              "    <tr>\n",
              "      <th>HRsAG</th>\n",
              "      <td>0</td>\n",
              "    </tr>\n",
              "    <tr>\n",
              "      <th>High-Risk Pregnancy</th>\n",
              "      <td>0</td>\n",
              "    </tr>\n",
              "  </tbody>\n",
              "</table>\n",
              "</div><br><label><b>dtype:</b> int64</label>"
            ]
          },
          "metadata": {},
          "execution_count": 78
        }
      ]
    },
    {
      "cell_type": "code",
      "source": [
        "MaternalP =MartenalPregnacy.copy()"
      ],
      "metadata": {
        "id": "hUjK6PCQPp2S"
      },
      "execution_count": 80,
      "outputs": []
    },
    {
      "cell_type": "markdown",
      "source": [
        "#### Define BP Rates"
      ],
      "metadata": {
        "id": "a173Qt4DF1t8"
      }
    },
    {
      "cell_type": "code",
      "source": [
        "def categorize_bp(bp):\n",
        "    try:\n",
        "        if pd.isna(bp):\n",
        "            return np.nan\n",
        "\n",
        "        # Extract systolic and diastolic values\n",
        "        systolic, diastolic = map(int, bp.split('/'))\n",
        "\n",
        "        # Categorize using standard ranges\n",
        "        if systolic < 90 or diastolic < 60:\n",
        "            return 'Low BP (Hypotension)'\n",
        "        elif 90 <= systolic <= 119 and 60 <= diastolic <= 79:\n",
        "            return 'Normal BP'\n",
        "        elif 120 <= systolic <= 129 and diastolic < 80:\n",
        "            return 'Elevated (Pre-hypertension)'\n",
        "        elif 130 <= systolic <= 139 or 80 <= diastolic <= 89:\n",
        "            return 'High BP (Hypertension Stage 1)'\n",
        "        elif systolic >= 140 or diastolic >= 90:\n",
        "            return 'High BP (Hypertension Stage 2)'\n",
        "        else:\n",
        "            return 'Normal BP'\n",
        "    except:\n",
        "        return np.nan\n",
        "\n",
        "# Apply categorization\n",
        "MaternalP['BP Rate'] = MaternalP['Blood Pressure'].apply(categorize_bp)"
      ],
      "metadata": {
        "id": "FEUSiVruF6d0"
      },
      "execution_count": 82,
      "outputs": []
    },
    {
      "cell_type": "markdown",
      "source": [
        "**Define Feutal Heart Rate  Categories**"
      ],
      "metadata": {
        "id": "AXFBwNV_IZx_"
      }
    },
    {
      "cell_type": "code",
      "source": [
        "# Clean and convert values\n",
        "MaternalP['Fetal Heart Rate'] = MaternalP['Fetal Heart Rate'].str.replace('m', '', regex=False).astype(float) # This line is no longer needed as the column is already numeric\n",
        "def categorize_fhr(fhr):\n",
        "    try:\n",
        "        if pd.isna(fhr):\n",
        "            return np.nan\n",
        "\n",
        "        fhr = float(fhr)\n",
        "\n",
        "        if fhr < 110:\n",
        "            return 'Low FHR (Bradycardia)'\n",
        "        elif 110 <= fhr <= 160:\n",
        "            return 'Normal FHR'\n",
        "        elif fhr > 160:\n",
        "            return 'High FHR (Tachycardia)'\n",
        "        else:\n",
        "            return np.nan\n",
        "    except:\n",
        "        return np.nan\n",
        "\n",
        "# Apply categorization\n",
        "MaternalP['FHR Rate'] = MaternalP['Fetal Heart Rate'].apply(categorize_fhr)"
      ],
      "metadata": {
        "id": "eL7l7GMxIh0z"
      },
      "execution_count": 85,
      "outputs": []
    },
    {
      "cell_type": "code",
      "source": [
        "MaternalP.head()"
      ],
      "metadata": {
        "colab": {
          "base_uri": "https://localhost:8080/",
          "height": 327
        },
        "id": "POhe_E-IHfie",
        "outputId": "8d10a0cf-8d2a-4d7e-9b23-717261fe5590"
      },
      "execution_count": 86,
      "outputs": [
        {
          "output_type": "execute_result",
          "data": {
            "text/plain": [
              "          Name  Age Gravida TranslationTT Injection Gestational Age Weight  \\\n",
              "0    Rituporna   18     1st                     1st         38 week  50 kg   \n",
              "1        Moina   25     2nd                     2nd         38 week  60 kg   \n",
              "2       Rabeya   20     1st                     1st         30 week  55 kg   \n",
              "3       Shorna   22     1st                     3rd         35 week  51 kg   \n",
              "4  Tania Akter   20     1st                     2nd         30 week  53 kg   \n",
              "\n",
              "  Height Blood Pressure  Anemia Jaundice Fetal Position Fetal Movement  \\\n",
              "0  5.3''         100/60  Normal   Normal         Normal         Normal   \n",
              "1  5.2''         100/70  Normal   Normal         Normal         Normal   \n",
              "2  5.0''         100/60  Normal   Normal         Normal         Normal   \n",
              "3  5.4''         110/65  Normal   Normal         Normal         Normal   \n",
              "4  5.2''         100/55  Normal   Normal         Normal         Normal   \n",
              "\n",
              "   Fetal Heart Rate Urine Test – Albumin Urine Test – Sugar      VDRL  \\\n",
              "0           140.000               Normal                Yes  Negative   \n",
              "1           130.000               Normal                Yes  Positive   \n",
              "2           120.000               Normal                Yes  Negative   \n",
              "3           130.000               Normal                Yes  Positive   \n",
              "4           125.000               Normal                Yes  Negative   \n",
              "\n",
              "      HRsAG High-Risk Pregnancy               BP Rate    FHR Rate  \n",
              "0  Negative                 Yes             Normal BP  Normal FHR  \n",
              "1  Negative                  No             Normal BP  Normal FHR  \n",
              "2  Negative                 Yes             Normal BP  Normal FHR  \n",
              "3  Negative                 Yes             Normal BP  Normal FHR  \n",
              "4  Negative                  No  Low BP (Hypotension)  Normal FHR  "
            ],
            "text/html": [
              "\n",
              "  <div id=\"df-88c7a730-8afa-460e-9f7a-e6c4018607c7\" class=\"colab-df-container\">\n",
              "    <div>\n",
              "<style scoped>\n",
              "    .dataframe tbody tr th:only-of-type {\n",
              "        vertical-align: middle;\n",
              "    }\n",
              "\n",
              "    .dataframe tbody tr th {\n",
              "        vertical-align: top;\n",
              "    }\n",
              "\n",
              "    .dataframe thead th {\n",
              "        text-align: right;\n",
              "    }\n",
              "</style>\n",
              "<table border=\"1\" class=\"dataframe\">\n",
              "  <thead>\n",
              "    <tr style=\"text-align: right;\">\n",
              "      <th></th>\n",
              "      <th>Name</th>\n",
              "      <th>Age</th>\n",
              "      <th>Gravida</th>\n",
              "      <th>TranslationTT Injection</th>\n",
              "      <th>Gestational Age</th>\n",
              "      <th>Weight</th>\n",
              "      <th>Height</th>\n",
              "      <th>Blood Pressure</th>\n",
              "      <th>Anemia</th>\n",
              "      <th>Jaundice</th>\n",
              "      <th>Fetal Position</th>\n",
              "      <th>Fetal Movement</th>\n",
              "      <th>Fetal Heart Rate</th>\n",
              "      <th>Urine Test – Albumin</th>\n",
              "      <th>Urine Test – Sugar</th>\n",
              "      <th>VDRL</th>\n",
              "      <th>HRsAG</th>\n",
              "      <th>High-Risk Pregnancy</th>\n",
              "      <th>BP Rate</th>\n",
              "      <th>FHR Rate</th>\n",
              "    </tr>\n",
              "  </thead>\n",
              "  <tbody>\n",
              "    <tr>\n",
              "      <th>0</th>\n",
              "      <td>Rituporna</td>\n",
              "      <td>18</td>\n",
              "      <td>1st</td>\n",
              "      <td>1st</td>\n",
              "      <td>38 week</td>\n",
              "      <td>50 kg</td>\n",
              "      <td>5.3''</td>\n",
              "      <td>100/60</td>\n",
              "      <td>Normal</td>\n",
              "      <td>Normal</td>\n",
              "      <td>Normal</td>\n",
              "      <td>Normal</td>\n",
              "      <td>140.000</td>\n",
              "      <td>Normal</td>\n",
              "      <td>Yes</td>\n",
              "      <td>Negative</td>\n",
              "      <td>Negative</td>\n",
              "      <td>Yes</td>\n",
              "      <td>Normal BP</td>\n",
              "      <td>Normal FHR</td>\n",
              "    </tr>\n",
              "    <tr>\n",
              "      <th>1</th>\n",
              "      <td>Moina</td>\n",
              "      <td>25</td>\n",
              "      <td>2nd</td>\n",
              "      <td>2nd</td>\n",
              "      <td>38 week</td>\n",
              "      <td>60 kg</td>\n",
              "      <td>5.2''</td>\n",
              "      <td>100/70</td>\n",
              "      <td>Normal</td>\n",
              "      <td>Normal</td>\n",
              "      <td>Normal</td>\n",
              "      <td>Normal</td>\n",
              "      <td>130.000</td>\n",
              "      <td>Normal</td>\n",
              "      <td>Yes</td>\n",
              "      <td>Positive</td>\n",
              "      <td>Negative</td>\n",
              "      <td>No</td>\n",
              "      <td>Normal BP</td>\n",
              "      <td>Normal FHR</td>\n",
              "    </tr>\n",
              "    <tr>\n",
              "      <th>2</th>\n",
              "      <td>Rabeya</td>\n",
              "      <td>20</td>\n",
              "      <td>1st</td>\n",
              "      <td>1st</td>\n",
              "      <td>30 week</td>\n",
              "      <td>55 kg</td>\n",
              "      <td>5.0''</td>\n",
              "      <td>100/60</td>\n",
              "      <td>Normal</td>\n",
              "      <td>Normal</td>\n",
              "      <td>Normal</td>\n",
              "      <td>Normal</td>\n",
              "      <td>120.000</td>\n",
              "      <td>Normal</td>\n",
              "      <td>Yes</td>\n",
              "      <td>Negative</td>\n",
              "      <td>Negative</td>\n",
              "      <td>Yes</td>\n",
              "      <td>Normal BP</td>\n",
              "      <td>Normal FHR</td>\n",
              "    </tr>\n",
              "    <tr>\n",
              "      <th>3</th>\n",
              "      <td>Shorna</td>\n",
              "      <td>22</td>\n",
              "      <td>1st</td>\n",
              "      <td>3rd</td>\n",
              "      <td>35 week</td>\n",
              "      <td>51 kg</td>\n",
              "      <td>5.4''</td>\n",
              "      <td>110/65</td>\n",
              "      <td>Normal</td>\n",
              "      <td>Normal</td>\n",
              "      <td>Normal</td>\n",
              "      <td>Normal</td>\n",
              "      <td>130.000</td>\n",
              "      <td>Normal</td>\n",
              "      <td>Yes</td>\n",
              "      <td>Positive</td>\n",
              "      <td>Negative</td>\n",
              "      <td>Yes</td>\n",
              "      <td>Normal BP</td>\n",
              "      <td>Normal FHR</td>\n",
              "    </tr>\n",
              "    <tr>\n",
              "      <th>4</th>\n",
              "      <td>Tania Akter</td>\n",
              "      <td>20</td>\n",
              "      <td>1st</td>\n",
              "      <td>2nd</td>\n",
              "      <td>30 week</td>\n",
              "      <td>53 kg</td>\n",
              "      <td>5.2''</td>\n",
              "      <td>100/55</td>\n",
              "      <td>Normal</td>\n",
              "      <td>Normal</td>\n",
              "      <td>Normal</td>\n",
              "      <td>Normal</td>\n",
              "      <td>125.000</td>\n",
              "      <td>Normal</td>\n",
              "      <td>Yes</td>\n",
              "      <td>Negative</td>\n",
              "      <td>Negative</td>\n",
              "      <td>No</td>\n",
              "      <td>Low BP (Hypotension)</td>\n",
              "      <td>Normal FHR</td>\n",
              "    </tr>\n",
              "  </tbody>\n",
              "</table>\n",
              "</div>\n",
              "    <div class=\"colab-df-buttons\">\n",
              "\n",
              "  <div class=\"colab-df-container\">\n",
              "    <button class=\"colab-df-convert\" onclick=\"convertToInteractive('df-88c7a730-8afa-460e-9f7a-e6c4018607c7')\"\n",
              "            title=\"Convert this dataframe to an interactive table.\"\n",
              "            style=\"display:none;\">\n",
              "\n",
              "  <svg xmlns=\"http://www.w3.org/2000/svg\" height=\"24px\" viewBox=\"0 -960 960 960\">\n",
              "    <path d=\"M120-120v-720h720v720H120Zm60-500h600v-160H180v160Zm220 220h160v-160H400v160Zm0 220h160v-160H400v160ZM180-400h160v-160H180v160Zm440 0h160v-160H620v160ZM180-180h160v-160H180v160Zm440 0h160v-160H620v160Z\"/>\n",
              "  </svg>\n",
              "    </button>\n",
              "\n",
              "  <style>\n",
              "    .colab-df-container {\n",
              "      display:flex;\n",
              "      gap: 12px;\n",
              "    }\n",
              "\n",
              "    .colab-df-convert {\n",
              "      background-color: #E8F0FE;\n",
              "      border: none;\n",
              "      border-radius: 50%;\n",
              "      cursor: pointer;\n",
              "      display: none;\n",
              "      fill: #1967D2;\n",
              "      height: 32px;\n",
              "      padding: 0 0 0 0;\n",
              "      width: 32px;\n",
              "    }\n",
              "\n",
              "    .colab-df-convert:hover {\n",
              "      background-color: #E2EBFA;\n",
              "      box-shadow: 0px 1px 2px rgba(60, 64, 67, 0.3), 0px 1px 3px 1px rgba(60, 64, 67, 0.15);\n",
              "      fill: #174EA6;\n",
              "    }\n",
              "\n",
              "    .colab-df-buttons div {\n",
              "      margin-bottom: 4px;\n",
              "    }\n",
              "\n",
              "    [theme=dark] .colab-df-convert {\n",
              "      background-color: #3B4455;\n",
              "      fill: #D2E3FC;\n",
              "    }\n",
              "\n",
              "    [theme=dark] .colab-df-convert:hover {\n",
              "      background-color: #434B5C;\n",
              "      box-shadow: 0px 1px 3px 1px rgba(0, 0, 0, 0.15);\n",
              "      filter: drop-shadow(0px 1px 2px rgba(0, 0, 0, 0.3));\n",
              "      fill: #FFFFFF;\n",
              "    }\n",
              "  </style>\n",
              "\n",
              "    <script>\n",
              "      const buttonEl =\n",
              "        document.querySelector('#df-88c7a730-8afa-460e-9f7a-e6c4018607c7 button.colab-df-convert');\n",
              "      buttonEl.style.display =\n",
              "        google.colab.kernel.accessAllowed ? 'block' : 'none';\n",
              "\n",
              "      async function convertToInteractive(key) {\n",
              "        const element = document.querySelector('#df-88c7a730-8afa-460e-9f7a-e6c4018607c7');\n",
              "        const dataTable =\n",
              "          await google.colab.kernel.invokeFunction('convertToInteractive',\n",
              "                                                    [key], {});\n",
              "        if (!dataTable) return;\n",
              "\n",
              "        const docLinkHtml = 'Like what you see? Visit the ' +\n",
              "          '<a target=\"_blank\" href=https://colab.research.google.com/notebooks/data_table.ipynb>data table notebook</a>'\n",
              "          + ' to learn more about interactive tables.';\n",
              "        element.innerHTML = '';\n",
              "        dataTable['output_type'] = 'display_data';\n",
              "        await google.colab.output.renderOutput(dataTable, element);\n",
              "        const docLink = document.createElement('div');\n",
              "        docLink.innerHTML = docLinkHtml;\n",
              "        element.appendChild(docLink);\n",
              "      }\n",
              "    </script>\n",
              "  </div>\n",
              "\n",
              "\n",
              "    <div id=\"df-8de5b104-baf2-4ece-a265-521e5d659f2c\">\n",
              "      <button class=\"colab-df-quickchart\" onclick=\"quickchart('df-8de5b104-baf2-4ece-a265-521e5d659f2c')\"\n",
              "                title=\"Suggest charts\"\n",
              "                style=\"display:none;\">\n",
              "\n",
              "<svg xmlns=\"http://www.w3.org/2000/svg\" height=\"24px\"viewBox=\"0 0 24 24\"\n",
              "     width=\"24px\">\n",
              "    <g>\n",
              "        <path d=\"M19 3H5c-1.1 0-2 .9-2 2v14c0 1.1.9 2 2 2h14c1.1 0 2-.9 2-2V5c0-1.1-.9-2-2-2zM9 17H7v-7h2v7zm4 0h-2V7h2v10zm4 0h-2v-4h2v4z\"/>\n",
              "    </g>\n",
              "</svg>\n",
              "      </button>\n",
              "\n",
              "<style>\n",
              "  .colab-df-quickchart {\n",
              "      --bg-color: #E8F0FE;\n",
              "      --fill-color: #1967D2;\n",
              "      --hover-bg-color: #E2EBFA;\n",
              "      --hover-fill-color: #174EA6;\n",
              "      --disabled-fill-color: #AAA;\n",
              "      --disabled-bg-color: #DDD;\n",
              "  }\n",
              "\n",
              "  [theme=dark] .colab-df-quickchart {\n",
              "      --bg-color: #3B4455;\n",
              "      --fill-color: #D2E3FC;\n",
              "      --hover-bg-color: #434B5C;\n",
              "      --hover-fill-color: #FFFFFF;\n",
              "      --disabled-bg-color: #3B4455;\n",
              "      --disabled-fill-color: #666;\n",
              "  }\n",
              "\n",
              "  .colab-df-quickchart {\n",
              "    background-color: var(--bg-color);\n",
              "    border: none;\n",
              "    border-radius: 50%;\n",
              "    cursor: pointer;\n",
              "    display: none;\n",
              "    fill: var(--fill-color);\n",
              "    height: 32px;\n",
              "    padding: 0;\n",
              "    width: 32px;\n",
              "  }\n",
              "\n",
              "  .colab-df-quickchart:hover {\n",
              "    background-color: var(--hover-bg-color);\n",
              "    box-shadow: 0 1px 2px rgba(60, 64, 67, 0.3), 0 1px 3px 1px rgba(60, 64, 67, 0.15);\n",
              "    fill: var(--button-hover-fill-color);\n",
              "  }\n",
              "\n",
              "  .colab-df-quickchart-complete:disabled,\n",
              "  .colab-df-quickchart-complete:disabled:hover {\n",
              "    background-color: var(--disabled-bg-color);\n",
              "    fill: var(--disabled-fill-color);\n",
              "    box-shadow: none;\n",
              "  }\n",
              "\n",
              "  .colab-df-spinner {\n",
              "    border: 2px solid var(--fill-color);\n",
              "    border-color: transparent;\n",
              "    border-bottom-color: var(--fill-color);\n",
              "    animation:\n",
              "      spin 1s steps(1) infinite;\n",
              "  }\n",
              "\n",
              "  @keyframes spin {\n",
              "    0% {\n",
              "      border-color: transparent;\n",
              "      border-bottom-color: var(--fill-color);\n",
              "      border-left-color: var(--fill-color);\n",
              "    }\n",
              "    20% {\n",
              "      border-color: transparent;\n",
              "      border-left-color: var(--fill-color);\n",
              "      border-top-color: var(--fill-color);\n",
              "    }\n",
              "    30% {\n",
              "      border-color: transparent;\n",
              "      border-left-color: var(--fill-color);\n",
              "      border-top-color: var(--fill-color);\n",
              "      border-right-color: var(--fill-color);\n",
              "    }\n",
              "    40% {\n",
              "      border-color: transparent;\n",
              "      border-right-color: var(--fill-color);\n",
              "      border-top-color: var(--fill-color);\n",
              "    }\n",
              "    60% {\n",
              "      border-color: transparent;\n",
              "      border-right-color: var(--fill-color);\n",
              "    }\n",
              "    80% {\n",
              "      border-color: transparent;\n",
              "      border-right-color: var(--fill-color);\n",
              "      border-bottom-color: var(--fill-color);\n",
              "    }\n",
              "    90% {\n",
              "      border-color: transparent;\n",
              "      border-bottom-color: var(--fill-color);\n",
              "    }\n",
              "  }\n",
              "</style>\n",
              "\n",
              "      <script>\n",
              "        async function quickchart(key) {\n",
              "          const quickchartButtonEl =\n",
              "            document.querySelector('#' + key + ' button');\n",
              "          quickchartButtonEl.disabled = true;  // To prevent multiple clicks.\n",
              "          quickchartButtonEl.classList.add('colab-df-spinner');\n",
              "          try {\n",
              "            const charts = await google.colab.kernel.invokeFunction(\n",
              "                'suggestCharts', [key], {});\n",
              "          } catch (error) {\n",
              "            console.error('Error during call to suggestCharts:', error);\n",
              "          }\n",
              "          quickchartButtonEl.classList.remove('colab-df-spinner');\n",
              "          quickchartButtonEl.classList.add('colab-df-quickchart-complete');\n",
              "        }\n",
              "        (() => {\n",
              "          let quickchartButtonEl =\n",
              "            document.querySelector('#df-8de5b104-baf2-4ece-a265-521e5d659f2c button');\n",
              "          quickchartButtonEl.style.display =\n",
              "            google.colab.kernel.accessAllowed ? 'block' : 'none';\n",
              "        })();\n",
              "      </script>\n",
              "    </div>\n",
              "\n",
              "    </div>\n",
              "  </div>\n"
            ],
            "application/vnd.google.colaboratory.intrinsic+json": {
              "type": "dataframe",
              "variable_name": "MaternalP",
              "summary": "{\n  \"name\": \"MaternalP\",\n  \"rows\": 998,\n  \"fields\": [\n    {\n      \"column\": \"Name\",\n      \"properties\": {\n        \"dtype\": \"category\",\n        \"num_unique_values\": 350,\n        \"samples\": [\n          \"Shapla\",\n          \"Rekha Moni\",\n          \"Nurbanu\"\n        ],\n        \"semantic_type\": \"\",\n        \"description\": \"\"\n      }\n    },\n    {\n      \"column\": \"Age\",\n      \"properties\": {\n        \"dtype\": \"number\",\n        \"std\": 3,\n        \"min\": 18,\n        \"max\": 32,\n        \"num_unique_values\": 13,\n        \"samples\": [\n          27,\n          26,\n          18\n        ],\n        \"semantic_type\": \"\",\n        \"description\": \"\"\n      }\n    },\n    {\n      \"column\": \"Gravida\",\n      \"properties\": {\n        \"dtype\": \"category\",\n        \"num_unique_values\": 3,\n        \"samples\": [\n          \"1st\",\n          \"2nd\",\n          \"3rd\"\n        ],\n        \"semantic_type\": \"\",\n        \"description\": \"\"\n      }\n    },\n    {\n      \"column\": \"TranslationTT Injection\",\n      \"properties\": {\n        \"dtype\": \"category\",\n        \"num_unique_values\": 3,\n        \"samples\": [\n          \"1st\",\n          \"2nd\",\n          \"3rd\"\n        ],\n        \"semantic_type\": \"\",\n        \"description\": \"\"\n      }\n    },\n    {\n      \"column\": \"Gestational Age\",\n      \"properties\": {\n        \"dtype\": \"category\",\n        \"num_unique_values\": 11,\n        \"samples\": [\n          \"28 week\",\n          \"38 week\",\n          \"24 week\"\n        ],\n        \"semantic_type\": \"\",\n        \"description\": \"\"\n      }\n    },\n    {\n      \"column\": \"Weight\",\n      \"properties\": {\n        \"dtype\": \"category\",\n        \"num_unique_values\": 14,\n        \"samples\": [\n          \"56 kg\",\n          \"49 kg\",\n          \"50 kg\"\n        ],\n        \"semantic_type\": \"\",\n        \"description\": \"\"\n      }\n    },\n    {\n      \"column\": \"Height\",\n      \"properties\": {\n        \"dtype\": \"category\",\n        \"num_unique_values\": 7,\n        \"samples\": [\n          \"5.3''\",\n          \"5.2''\",\n          \"5.5''\"\n        ],\n        \"semantic_type\": \"\",\n        \"description\": \"\"\n      }\n    },\n    {\n      \"column\": \"Blood Pressure\",\n      \"properties\": {\n        \"dtype\": \"category\",\n        \"num_unique_values\": 11,\n        \"samples\": [\n          \"120/60\",\n          \"100/60\",\n          \"110/60\"\n        ],\n        \"semantic_type\": \"\",\n        \"description\": \"\"\n      }\n    },\n    {\n      \"column\": \"Anemia\",\n      \"properties\": {\n        \"dtype\": \"category\",\n        \"num_unique_values\": 3,\n        \"samples\": [\n          \"Normal\",\n          \"Minimal\",\n          \"Medium\"\n        ],\n        \"semantic_type\": \"\",\n        \"description\": \"\"\n      }\n    },\n    {\n      \"column\": \"Jaundice\",\n      \"properties\": {\n        \"dtype\": \"category\",\n        \"num_unique_values\": 3,\n        \"samples\": [\n          \"Normal\",\n          \"Minimal\",\n          \"Medium\"\n        ],\n        \"semantic_type\": \"\",\n        \"description\": \"\"\n      }\n    },\n    {\n      \"column\": \"Fetal Position\",\n      \"properties\": {\n        \"dtype\": \"category\",\n        \"num_unique_values\": 2,\n        \"samples\": [\n          \"Abnormal\",\n          \"Normal\"\n        ],\n        \"semantic_type\": \"\",\n        \"description\": \"\"\n      }\n    },\n    {\n      \"column\": \"Fetal Movement\",\n      \"properties\": {\n        \"dtype\": \"category\",\n        \"num_unique_values\": 1,\n        \"samples\": [\n          \"Normal\"\n        ],\n        \"semantic_type\": \"\",\n        \"description\": \"\"\n      }\n    },\n    {\n      \"column\": \"Fetal Heart Rate\",\n      \"properties\": {\n        \"dtype\": \"number\",\n        \"std\": 8.889661481167979,\n        \"min\": 120.0,\n        \"max\": 150.0,\n        \"num_unique_values\": 5,\n        \"samples\": [\n          130.0\n        ],\n        \"semantic_type\": \"\",\n        \"description\": \"\"\n      }\n    },\n    {\n      \"column\": \"Urine Test \\u2013 Albumin\",\n      \"properties\": {\n        \"dtype\": \"category\",\n        \"num_unique_values\": 4,\n        \"samples\": [\n          \"Higher\"\n        ],\n        \"semantic_type\": \"\",\n        \"description\": \"\"\n      }\n    },\n    {\n      \"column\": \"Urine Test \\u2013 Sugar\",\n      \"properties\": {\n        \"dtype\": \"category\",\n        \"num_unique_values\": 2,\n        \"samples\": [\n          \"No\"\n        ],\n        \"semantic_type\": \"\",\n        \"description\": \"\"\n      }\n    },\n    {\n      \"column\": \"VDRL\",\n      \"properties\": {\n        \"dtype\": \"category\",\n        \"num_unique_values\": 2,\n        \"samples\": [\n          \"Positive\"\n        ],\n        \"semantic_type\": \"\",\n        \"description\": \"\"\n      }\n    },\n    {\n      \"column\": \"HRsAG\",\n      \"properties\": {\n        \"dtype\": \"category\",\n        \"num_unique_values\": 2,\n        \"samples\": [\n          \"Positive\"\n        ],\n        \"semantic_type\": \"\",\n        \"description\": \"\"\n      }\n    },\n    {\n      \"column\": \"High-Risk Pregnancy\",\n      \"properties\": {\n        \"dtype\": \"category\",\n        \"num_unique_values\": 2,\n        \"samples\": [\n          \"No\"\n        ],\n        \"semantic_type\": \"\",\n        \"description\": \"\"\n      }\n    },\n    {\n      \"column\": \"BP Rate\",\n      \"properties\": {\n        \"dtype\": \"category\",\n        \"num_unique_values\": 4,\n        \"samples\": [\n          \"Low BP (Hypotension)\"\n        ],\n        \"semantic_type\": \"\",\n        \"description\": \"\"\n      }\n    },\n    {\n      \"column\": \"FHR Rate\",\n      \"properties\": {\n        \"dtype\": \"category\",\n        \"num_unique_values\": 1,\n        \"samples\": [\n          \"Normal FHR\"\n        ],\n        \"semantic_type\": \"\",\n        \"description\": \"\"\n      }\n    }\n  ]\n}"
            }
          },
          "metadata": {},
          "execution_count": 86
        }
      ]
    },
    {
      "cell_type": "markdown",
      "metadata": {
        "id": "Di7wpkejfnFm"
      },
      "source": [
        "#### Save the dataset"
      ]
    },
    {
      "cell_type": "code",
      "execution_count": 113,
      "metadata": {
        "id": "CvfacYVDfnFm"
      },
      "outputs": [],
      "source": [
        "#Save the clean dataset\n",
        "MartenalPreg_clean = MartenalPregnacy.copy()\n",
        "MartenalPreg_clean.to_csv(\"/content/drive/MyDrive/Data Analysis Projects/Maternal Health High Risk Pregnancy/Martenal_Preg_clean.csv\", index=False)"
      ]
    },
    {
      "cell_type": "markdown",
      "source": [
        "### Exploratory Data Analysis"
      ],
      "metadata": {
        "id": "2-d5GTFtA7FN"
      }
    },
    {
      "cell_type": "code",
      "execution_count": 34,
      "metadata": {
        "id": "W7NZLl_TRedk"
      },
      "outputs": [],
      "source": [
        "def histogram_boxplot(data, feature, figsize=(15, 10), kde=False, bins=None):\n",
        "    \"\"\"\n",
        "    Boxplot and histogram combined\n",
        "\n",
        "    data: dataframe\n",
        "    feature: dataframe column\n",
        "    figsize: size of figure (default (15,10))\n",
        "    kde: whether to show the density curve (default False)\n",
        "    bins: number of bins for histogram (default None)\n",
        "    \"\"\"\n",
        "    f2, (ax_box2, ax_hist2) = plt.subplots(\n",
        "        nrows=2,  # Number of rows of the subplot grid= 2\n",
        "        sharex=True,  # x-axis will be shared among all subplots\n",
        "        gridspec_kw={\"height_ratios\": (0.25, 0.75)},\n",
        "        figsize=figsize,\n",
        "    )  # creating the 2 subplots\n",
        "    sns.boxplot(\n",
        "        data=data, x=feature, ax=ax_box2, showmeans=True, color=\"violet\"\n",
        "    )  # boxplot will be created and a triangle will indicate the mean value of the column\n",
        "    sns.histplot(\n",
        "        data=data, x=feature, kde=kde, ax=ax_hist2, bins=bins\n",
        "    ) if bins else sns.histplot(\n",
        "        data=data, x=feature, kde=kde, ax=ax_hist2\n",
        "    )  # For histogram\n",
        "    ax_hist2.axvline(\n",
        "        data[feature].mean(), color=\"green\", linestyle=\"--\"\n",
        "    )  # Add mean to the histogram\n",
        "    ax_hist2.axvline(\n",
        "        data[feature].median(), color=\"black\", linestyle=\"-\"\n",
        "    )  # Add median to the histogram"
      ]
    },
    {
      "cell_type": "code",
      "execution_count": 36,
      "metadata": {
        "id": "wlW6Jt7ABfL2"
      },
      "outputs": [],
      "source": [
        "# function to create labeled barplots\n",
        "\n",
        "\n",
        "def labeled_barplot(data, feature, perc=False, n=None):\n",
        "    \"\"\"\n",
        "    Barplot with percentage at the top\n",
        "\n",
        "    data: dataframe\n",
        "    feature: dataframe column\n",
        "    perc: whether to display percentages instead of count (default is False)\n",
        "    n: displays the top n category levels (default is None, i.e., display all levels)\n",
        "    \"\"\"\n",
        "\n",
        "    total = len(data[feature])  # length of the column\n",
        "    count = data[feature].nunique()\n",
        "    if n is None:\n",
        "        plt.figure(figsize=(count + 2, 6))\n",
        "    else:\n",
        "        plt.figure(figsize=(n + 2, 6))\n",
        "\n",
        "    plt.xticks(rotation=90, fontsize=15)\n",
        "    ax = sns.countplot(\n",
        "        data=data,\n",
        "        x=feature,\n",
        "        palette=\"Paired\",\n",
        "        order=data[feature].value_counts().index[:n],\n",
        "    )\n",
        "\n",
        "    for p in ax.patches:\n",
        "        if perc == True:\n",
        "            label = \"{:.1f}%\".format(\n",
        "                100 * p.get_height() / total\n",
        "            )  # percentage of each class of the category\n",
        "        else:\n",
        "            label = p.get_height()  # count of each level of the category\n",
        "\n",
        "        x = p.get_x() + p.get_width() / 2  # width of the plot\n",
        "        y = p.get_height()  # height of the plot\n",
        "\n",
        "        ax.annotate(\n",
        "            label,\n",
        "            (x, y),\n",
        "            ha=\"center\",\n",
        "            va=\"center\",\n",
        "            size=12,\n",
        "            xytext=(0, 5),\n",
        "            textcoords=\"offset points\",\n",
        "        )  # annotate the percentage\n",
        "\n",
        "    plt.show()  # show the plot"
      ]
    },
    {
      "cell_type": "code",
      "source": [
        "def stacked_barplot(data, predictor, target):\n",
        "    \"\"\"\n",
        "    Print the category counts and plot a stacked bar chart\n",
        "\n",
        "    data: dataframe\n",
        "    predictor: independent variable\n",
        "    target: target variable\n",
        "    \"\"\"\n",
        "    count = data[predictor].nunique()\n",
        "    sorter = data[target].value_counts().index[-1]\n",
        "    tab1 = pd.crosstab(data[predictor], data[target], margins=True).sort_values(\n",
        "        by=sorter, ascending=False\n",
        "    )\n",
        "    print(tab1)\n",
        "    print(\"-\" * 120)\n",
        "    tab = pd.crosstab(data[predictor], data[target], normalize=\"index\").sort_values(\n",
        "        by=sorter, ascending=False\n",
        "    )\n",
        "    tab.plot(kind=\"bar\", stacked=True, figsize=(count + 5, 5))\n",
        "    plt.legend(\n",
        "        loc=\"lower left\", frameon=False,\n",
        "    )\n",
        "    plt.legend(loc=\"upper left\", bbox_to_anchor=(1, 1))\n",
        "    plt.show()"
      ],
      "metadata": {
        "id": "cdOfMzYaWG0R"
      },
      "execution_count": 96,
      "outputs": []
    },
    {
      "cell_type": "code",
      "execution_count": 37,
      "metadata": {
        "id": "O_bggqJZRfBp"
      },
      "outputs": [],
      "source": [
        "### function to plot distributions wrt target\n",
        "\n",
        "\n",
        "def distribution_plot_wrt_target(data, predictor, target):\n",
        "\n",
        "    fig, axs = plt.subplots(2, 2, figsize=(12, 10))\n",
        "\n",
        "    target_uniq = data[target].unique()\n",
        "\n",
        "    axs[0, 0].set_title(\"Distribution of target for target=\" + str(target_uniq[0]))\n",
        "    sns.histplot(\n",
        "        data=data[data[target] == target_uniq[0]],\n",
        "        x=predictor,\n",
        "        kde=True,\n",
        "        ax=axs[0, 0],\n",
        "        color=\"teal\",\n",
        "        stat=\"density\",\n",
        "    )\n",
        "\n",
        "    axs[0, 1].set_title(\"Distribution of target for target=\" + str(target_uniq[1]))\n",
        "    sns.histplot(\n",
        "        data=data[data[target] == target_uniq[1]],\n",
        "        x=predictor,\n",
        "        kde=True,\n",
        "        ax=axs[0, 1],\n",
        "        color=\"orange\",\n",
        "        stat=\"density\",\n",
        "    )\n",
        "\n",
        "    axs[1, 0].set_title(\"Boxplot w.r.t target\")\n",
        "    sns.boxplot(data=data, x=target, y=predictor, ax=axs[1, 0], palette=\"gist_rainbow\")\n",
        "\n",
        "    axs[1, 1].set_title(\"Boxplot (without outliers) w.r.t target\")\n",
        "    sns.boxplot(\n",
        "        data=data,\n",
        "        x=target,\n",
        "        y=predictor,\n",
        "        ax=axs[1, 1],\n",
        "        showfliers=False,\n",
        "        palette=\"gist_rainbow\",\n",
        "    )\n",
        "\n",
        "    plt.tight_layout()\n",
        "    plt.show()"
      ]
    },
    {
      "cell_type": "markdown",
      "source": [
        "##### Univariate Analysis"
      ],
      "metadata": {
        "id": "XoOBDotUUA8q"
      }
    },
    {
      "cell_type": "markdown",
      "source": [
        "**Gravida**"
      ],
      "metadata": {
        "id": "0ERKRuUCC333"
      }
    },
    {
      "cell_type": "code",
      "source": [
        "# Gravida Bar Plot\n",
        "labeled_barplot(MartenalPregnacy, \"Gravida\", perc = True)"
      ],
      "metadata": {
        "colab": {
          "base_uri": "https://localhost:8080/",
          "height": 567
        },
        "id": "9FKhqTPpBqN4",
        "outputId": "023eb2ef-0a0c-4839-d898-76416fc145ce"
      },
      "execution_count": 51,
      "outputs": [
        {
          "output_type": "display_data",
          "data": {
            "text/plain": [
              "<Figure size 500x600 with 1 Axes>"
            ],
            "image/png": "[encoded data removed]"
          },
          "metadata": {}
        }
      ]
    },
    {
      "cell_type": "markdown",
      "source": [
        "**Observation**\n",
        "- `~84%` of the the women have never been pregnant prior to this pregnancy\n",
        "- Only `0.5%` of the women have been pregnant more than once before the current pregnancy"
      ],
      "metadata": {
        "id": "_LbhpRxECM23"
      }
    },
    {
      "cell_type": "markdown",
      "source": [
        "**Observations on TranslationTT Injection**"
      ],
      "metadata": {
        "id": "p-sjvinmDLQr"
      }
    },
    {
      "cell_type": "code",
      "source": [
        "# TranslationTT Injection Bar Plot\n",
        "labeled_barplot(MartenalPregnacy, \"TranslationTT Injection\", perc = True)"
      ],
      "metadata": {
        "colab": {
          "base_uri": "https://localhost:8080/",
          "height": 567
        },
        "id": "Xx6ppx9YDE4E",
        "outputId": "1c503184-bc44-4137-abbf-3ad6f38d44b0"
      },
      "execution_count": 53,
      "outputs": [
        {
          "output_type": "display_data",
          "data": {
            "text/plain": [
              "<Figure size 500x600 with 1 Axes>"
            ],
            "image/png": "[encoded data removed]"
          },
          "metadata": {}
        }
      ]
    },
    {
      "cell_type": "markdown",
      "source": [
        "**Observations**\n",
        "- `~38%` of the pregant wome have not been given any TT Injection"
      ],
      "metadata": {
        "id": "lLDxg73cD8KK"
      }
    },
    {
      "cell_type": "markdown",
      "source": [
        "**Observations on BP Rates**"
      ],
      "metadata": {
        "id": "1PrV09f-Ny9p"
      }
    },
    {
      "cell_type": "code",
      "source": [
        "# BP Rates\n",
        "labeled_barplot(MartenalPregnacy, \"BP Rate\", perc = True)"
      ],
      "metadata": {
        "colab": {
          "base_uri": "https://localhost:8080/",
          "height": 858
        },
        "id": "mMx_ZcCcEbyy",
        "outputId": "24b01309-d66e-4b1e-c03e-a59c853b1aa5"
      },
      "execution_count": 63,
      "outputs": [
        {
          "output_type": "display_data",
          "data": {
            "text/plain": [
              "<Figure size 600x600 with 1 Axes>"
            ],
            "image/png": "[encoded data removed]"
          },
          "metadata": {}
        }
      ]
    },
    {
      "cell_type": "markdown",
      "source": [
        "- Majority `62.5%` of the sample women have normal BP, with `~16%` with High BP (Hypertension Stage 1)"
      ],
      "metadata": {
        "id": "FqzK4jQ4N29n"
      }
    },
    {
      "cell_type": "markdown",
      "source": [
        "**Obseravtions on Fetal Heart Rate**"
      ],
      "metadata": {
        "id": "XvWaALaSObgH"
      }
    },
    {
      "cell_type": "code",
      "source": [
        "# FHR\n",
        "labeled_barplot(MartenalPregnacy, \"Fetal Heart Rate\", perc = True)"
      ],
      "metadata": {
        "colab": {
          "base_uri": "https://localhost:8080/",
          "height": 587
        },
        "id": "ArrRjvbzOg3e",
        "outputId": "857ff1e2-bc68-4ad5-fc43-aefc04a900a8"
      },
      "execution_count": 66,
      "outputs": [
        {
          "output_type": "display_data",
          "data": {
            "text/plain": [
              "<Figure size 700x600 with 1 Axes>"
            ],
            "image/png": "[encoded data removed]"
          },
          "metadata": {}
        }
      ]
    },
    {
      "cell_type": "markdown",
      "source": [
        "- The data shows normal futal cardiac activities, with majority between 120m - 130m"
      ],
      "metadata": {
        "id": "6WzjEj1JOr3x"
      }
    },
    {
      "cell_type": "markdown",
      "source": [
        "**Obseravtions on Fetal Position**"
      ],
      "metadata": {
        "id": "bSYap6tARWoe"
      }
    },
    {
      "cell_type": "code",
      "source": [
        "labeled_barplot(MartenalPregnacy, \"Fetal Position\", perc = True)"
      ],
      "metadata": {
        "colab": {
          "base_uri": "https://localhost:8080/",
          "height": 628
        },
        "id": "OlreyLQCRK6Z",
        "outputId": "ab799ef0-4f94-4bb6-abd0-7a48a3309a18"
      },
      "execution_count": 91,
      "outputs": [
        {
          "output_type": "display_data",
          "data": {
            "text/plain": [
              "<Figure size 400x600 with 1 Axes>"
            ],
            "image/png": "[encoded data removed]"
          },
          "metadata": {}
        }
      ]
    },
    {
      "cell_type": "markdown",
      "source": [
        "- `99%` of the fetals are in normal position"
      ],
      "metadata": {
        "id": "zz9RdtBERjTr"
      }
    },
    {
      "cell_type": "markdown",
      "source": [
        "**Observations on Anemia**"
      ],
      "metadata": {
        "id": "LWHg2AA_Rzzn"
      }
    },
    {
      "cell_type": "code",
      "source": [
        "labeled_barplot(MartenalPregnacy, \"Anemia\", perc = True)"
      ],
      "metadata": {
        "colab": {
          "base_uri": "https://localhost:8080/",
          "height": 611
        },
        "id": "VMvRxQGxRSnn",
        "outputId": "fe8d1593-e85d-4fbb-a4ac-33cf882ae17e"
      },
      "execution_count": 92,
      "outputs": [
        {
          "output_type": "display_data",
          "data": {
            "text/plain": [
              "<Figure size 500x600 with 1 Axes>"
            ],
            "image/png": "[encoded data removed]"
          },
          "metadata": {}
        }
      ]
    },
    {
      "cell_type": "markdown",
      "source": [
        "- Medium and minimal anemia experienced among the women"
      ],
      "metadata": {
        "id": "xAfBcLYhSEGo"
      }
    },
    {
      "cell_type": "markdown",
      "source": [
        "**Observations on HRsAG**"
      ],
      "metadata": {
        "id": "dqefKn9mSvMD"
      }
    },
    {
      "cell_type": "code",
      "source": [
        "labeled_barplot(MartenalPregnacy, \"HRsAG\", perc = True)"
      ],
      "metadata": {
        "colab": {
          "base_uri": "https://localhost:8080/",
          "height": 621
        },
        "id": "R8zoxCs1Szs_",
        "outputId": "d9f9b1dc-1d14-4351-8bde-f64ab3ecde49"
      },
      "execution_count": 93,
      "outputs": [
        {
          "output_type": "display_data",
          "data": {
            "text/plain": [
              "<Figure size 400x600 with 1 Axes>"
            ],
            "image/png": "[encoded data removed]"
          },
          "metadata": {}
        }
      ]
    },
    {
      "cell_type": "markdown",
      "source": [
        "- `10.9%` of the women have Active Hepatitis B infection"
      ],
      "metadata": {
        "id": "o4UNl6xpS42y"
      }
    },
    {
      "cell_type": "markdown",
      "source": [
        "**Observations on VDRL**"
      ],
      "metadata": {
        "id": "TO3PD9rNTSV7"
      }
    },
    {
      "cell_type": "code",
      "source": [
        "labeled_barplot(MartenalPregnacy, \"VDRL\", perc = True)"
      ],
      "metadata": {
        "colab": {
          "base_uri": "https://localhost:8080/",
          "height": 621
        },
        "id": "9uZa0VQlTWDu",
        "outputId": "c5816c19-72db-4c23-b333-ba434519567e"
      },
      "execution_count": 94,
      "outputs": [
        {
          "output_type": "display_data",
          "data": {
            "text/plain": [
              "<Figure size 400x600 with 1 Axes>"
            ],
            "image/png": "[encoded data removed]"
          },
          "metadata": {}
        }
      ]
    },
    {
      "cell_type": "markdown",
      "source": [
        "- Antibodies detected → Possible syphilis infection in `50%` of the women"
      ],
      "metadata": {
        "id": "X0asXgCRTfP4"
      }
    },
    {
      "cell_type": "markdown",
      "source": [
        "**Observations on Jaundice**"
      ],
      "metadata": {
        "id": "OqWOQVT5UUYN"
      }
    },
    {
      "cell_type": "code",
      "source": [
        "labeled_barplot(MartenalPregnacy, \"Jaundice\", perc = True)"
      ],
      "metadata": {
        "colab": {
          "base_uri": "https://localhost:8080/",
          "height": 611
        },
        "id": "rdjq681rUrpe",
        "outputId": "517e65a7-d4dc-4226-bd19-689818d65a0f"
      },
      "execution_count": 95,
      "outputs": [
        {
          "output_type": "display_data",
          "data": {
            "text/plain": [
              "<Figure size 500x600 with 1 Axes>"
            ],
            "image/png": "[encoded data removed]"
          },
          "metadata": {}
        }
      ]
    },
    {
      "cell_type": "markdown",
      "source": [
        "-  `~ 1%` of the women show signs of liver dysfunction or infection"
      ],
      "metadata": {
        "id": "mfOH7H_TVTh9"
      }
    },
    {
      "cell_type": "markdown",
      "source": [
        "##### Bivariate Analysis"
      ],
      "metadata": {
        "id": "BY6-DBjNUFyV"
      }
    },
    {
      "cell_type": "code",
      "source": [
        "stacked_barplot(MartenalPregnacy, \"HRsAG\", \"High-Risk Pregnancy\")"
      ],
      "metadata": {
        "colab": {
          "base_uri": "https://localhost:8080/",
          "height": 623
        },
        "id": "oU7v5JlxaJ9p",
        "outputId": "f7288d12-e4d0-469b-d8d7-bdb1c895a60b"
      },
      "execution_count": 101,
      "outputs": [
        {
          "output_type": "stream",
          "name": "stdout",
          "text": [
            "High-Risk Pregnancy   No  Yes  All\n",
            "HRsAG                             \n",
            "Negative             332  557  889\n",
            "All                  332  666  998\n",
            "Positive               0  109  109\n",
            "------------------------------------------------------------------------------------------------------------------------\n"
          ]
        },
        {
          "output_type": "display_data",
          "data": {
            "text/plain": [
              "<Figure size 700x500 with 1 Axes>"
            ],
            "image/png": "[encoded data removed]"
          },
          "metadata": {}
        }
      ]
    },
    {
      "cell_type": "code",
      "source": [
        "distribution_plot_wrt_target(MartenalPregnacy, \"TranslationTT Injection\", \"High-Risk Pregnancy\")"
      ],
      "metadata": {
        "colab": {
          "base_uri": "https://localhost:8080/",
          "height": 1000
        },
        "id": "nx2XLwoNWr5f",
        "outputId": "4b5911bd-6f4a-4727-df13-8ab190ef5561"
      },
      "execution_count": 98,
      "outputs": [
        {
          "output_type": "display_data",
          "data": {
            "text/plain": [
              "<Figure size 1200x1000 with 4 Axes>"
            ],
            "image/png": "[encoded data removed]"
          },
          "metadata": {}
        }
      ]
    },
    {
      "cell_type": "markdown",
      "metadata": {
        "id": "p9dSmP6N22tJ"
      },
      "source": [
        "### Data Preparation for modelling"
      ]
    },
    {
      "cell_type": "code",
      "source": [
        "#Create a copy dataset copy\n",
        "MartenalPreg = MartenalPregnacy.copy()\n",
        "#Drop the name column\n",
        "MartenalPreg.drop([\"Name\", 'Fetal Movement'], axis=1, inplace=True)"
      ],
      "metadata": {
        "id": "9ImMkgQNbMcd"
      },
      "execution_count": 122,
      "outputs": []
    },
    {
      "cell_type": "code",
      "source": [
        "# # drop the case_status form the main dataset\n",
        "# X = MartenalPreg.drop([\"High-Risk Pregnancy\"], axis=1)\n",
        "# y  = MartenalPreg[\"High-Risk Pregnancy\"]\n",
        "\n",
        "# # Splitting data in train and test sets\n",
        "# X_train, X_test, y_train, y_test =train_test_split(X, y, test_size=0.3, random_state=1,stratify=y)\n",
        "# print(X_train.shape, X_test.shape)"
      ],
      "metadata": {
        "colab": {
          "base_uri": "https://localhost:8080/"
        },
        "id": "tEDwPMqXbGpg",
        "outputId": "74fcabe0-2d80-424b-cf0a-f9bba23cec11"
      },
      "execution_count": 115,
      "outputs": [
        {
          "output_type": "stream",
          "name": "stdout",
          "text": [
            "(698, 15) (300, 15)\n"
          ]
        }
      ]
    },
    {
      "cell_type": "code",
      "source": [
        "# # splitting train datasets into training and validation sets\n",
        "# X_t, X_val, y_t, y_val = train_test_split(X_train, y_train, test_size=0.3, random_state=1)\n",
        "\n",
        "# # Display of the dataset a\n",
        "# print(\"Shape of Training set : \", X_t.shape)\n",
        "# print(\"Shape of validation set : \", X_val.shape)\n",
        "# print(\"Percentage of classes in training set:\")\n",
        "# print(y_train.value_counts(normalize=True))\n",
        "# print(\"Percentage of classes in validation set:\")\n",
        "# print(y_val.value_counts(normalize=True))"
      ],
      "metadata": {
        "colab": {
          "base_uri": "https://localhost:8080/"
        },
        "id": "cISuZUoxcbr4",
        "outputId": "30296220-4bb1-4e33-cc3a-9cebfd8e54ee"
      },
      "execution_count": 116,
      "outputs": [
        {
          "output_type": "stream",
          "name": "stdout",
          "text": [
            "Shape of Training set :  (488, 15)\n",
            "Shape of validation set :  (210, 15)\n",
            "Percentage of classes in training set:\n",
            "High-Risk Pregnancy\n",
            "Yes   0.668\n",
            "No    0.332\n",
            "Name: proportion, dtype: float64\n",
            "Percentage of classes in validation set:\n",
            "High-Risk Pregnancy\n",
            "Yes   0.667\n",
            "No    0.333\n",
            "Name: proportion, dtype: float64\n"
          ]
        }
      ]
    },
    {
      "cell_type": "markdown",
      "metadata": {
        "id": "Q3aIchCkfnFn"
      },
      "source": [
        "#### Using Clasfier Technique to determine variables with effective colleration"
      ]
    },
    {
      "cell_type": "code",
      "execution_count": 118,
      "metadata": {
        "id": "1CfVpNmWfnFv"
      },
      "outputs": [],
      "source": [
        "# # Determine features correlations\n",
        "# classifier = SelectKBest(score_func=f_classif, k=5)\n",
        "# fits = classifier.fit(MartenalPreg.drop(\"High-Risk Pregnancy\", axis=1), MartenalPreg[\"High-Risk Pregnancy\"])\n",
        "# x1 = pd.DataFrame(fits.scores_)\n",
        "# columns = pd.DataFrame(MartenalPreg.drop(\"High-Risk Pregnancy\", axis=1).columns)\n",
        "# fscores = pd.concat([columns, x1], axis=1)\n",
        "# fscores.columns = [\"Attribute\", \"Score\"]\n",
        "# fscores.sort_values(by=\"Score\", ascending=False)"
      ]
    },
    {
      "cell_type": "markdown",
      "metadata": {
        "id": "dGq7PPgtfnFv"
      },
      "source": [
        "### Model Building"
      ]
    },
    {
      "cell_type": "code",
      "source": [
        "import pandas as pd\n",
        "import numpy as np\n",
        "from sklearn.model_selection import train_test_split, GridSearchCV\n",
        "from sklearn.preprocessing import OneHotEncoder, StandardScaler, LabelEncoder\n",
        "from sklearn.compose import ColumnTransformer\n",
        "from sklearn.pipeline import Pipeline\n",
        "from sklearn.metrics import (\n",
        "    accuracy_score, precision_score, recall_score, f1_score, roc_auc_score, classification_report\n",
        ")\n",
        "from sklearn.ensemble import RandomForestClassifier, GradientBoostingClassifier #, DecisionTreeClassifier\n",
        "from sklearn.tree import DecisionTreeClassifier\n",
        "from sklearn.linear_model import LogisticRegression\n",
        "from sklearn.svm import SVC\n",
        "import pickle\n",
        "\n",
        "# ==========================================\n",
        "# 1️⃣ Load Data\n",
        "# ==========================================\n",
        "df = MartenalPreg.copy()\n",
        "# drop the case_status form the main dataset\n",
        "X = df.drop([\"High-Risk Pregnancy\"], axis=1)\n",
        "y  = df[\"High-Risk Pregnancy\"]\n",
        "\n",
        "# Clean 'Fetal Heart Rate' column\n",
        "X['Fetal Heart Rate'] = X['Fetal Heart Rate'].astype(str).str.replace('m', '', regex=False)\n",
        "X['Fetal Heart Rate'] = pd.to_numeric(X['Fetal Heart Rate'])\n",
        "\n",
        "\n",
        "# Encode target variable\n",
        "le = LabelEncoder()\n",
        "y = le.fit_transform(y)\n",
        "\n",
        "\n",
        "# Identify numeric and categorical features\n",
        "num_features = X.select_dtypes(include=[\"int64\", \"float64\"]).columns.tolist()\n",
        "cat_features = X.select_dtypes(include=[\"object\", \"category\"]).columns.tolist()\n",
        "\n",
        "# ==========================================\n",
        "# 2️⃣ Preprocessing\n",
        "# ==========================================\n",
        "preprocessor = ColumnTransformer([\n",
        "    (\"num\", StandardScaler(), num_features),\n",
        "    (\"cat\", OneHotEncoder(handle_unknown=\"ignore\"), cat_features)\n",
        "])\n",
        "\n",
        "# ==========================================\n",
        "# 3️⃣ Base Models (No Hyperparameter Tuning Yet)\n",
        "# ==========================================\n",
        "models = {\n",
        "    \"LogisticRegression\": LogisticRegression(max_iter=2000),\n",
        "    \"RandomForest\": RandomForestClassifier(),\n",
        "    \"DecisionTree\": DecisionTreeClassifier(),\n",
        "    \"GradientBoosting\": GradientBoostingClassifier(),\n",
        "    \"SVC\": SVC(probability=True)\n",
        "}\n",
        "\n",
        "# ==========================================\n",
        "# 4️⃣ Train-Test Split\n",
        "# ==========================================\n",
        "X_train, X_test, y_train, y_test = train_test_split(\n",
        "    X, y, test_size=0.2, stratify=y, random_state=42\n",
        ")\n",
        "\n",
        "# ==========================================\n",
        "# 5️⃣ Evaluate All Models\n",
        "# ==========================================\n",
        "results = []\n",
        "best_model = None\n",
        "best_name = \"\"\n",
        "best_auc = 0\n",
        "\n",
        "for name, model in models.items():\n",
        "    pipe = Pipeline([\n",
        "        (\"preprocessor\", preprocessor),\n",
        "        (\"classifier\", model)\n",
        "    ])\n",
        "\n",
        "    pipe.fit(X_train, y_train)\n",
        "    y_pred = pipe.predict(X_test)\n",
        "    y_proba = pipe.predict_proba(X_test)[:, 1]\n",
        "\n",
        "    roc = roc_auc_score(y_test, y_proba)\n",
        "    acc = accuracy_score(y_test, y_pred)\n",
        "    prec = precision_score(y_test, y_pred, zero_division=0)\n",
        "    rec = recall_score(y_test, y_pred, zero_division=0)\n",
        "    f1 = f1_score(y_test, y_pred, zero_division=0)\n",
        "\n",
        "    results.append({\n",
        "        \"Model\": name,\n",
        "        \"Accuracy\": acc,\n",
        "        \"Precision\": prec,\n",
        "        \"Recall\": rec,\n",
        "        \"F1\": f1,\n",
        "        \"ROC-AUC\": roc\n",
        "    })\n",
        "\n",
        "    if roc > best_auc:\n",
        "        best_auc = roc\n",
        "        best_model = model\n",
        "        best_name = name\n",
        "\n",
        "results_df = pd.DataFrame(results)\n",
        "print(\"\\n📊 Base Model Results:\")\n",
        "print(results_df.sort_values(by=\"ROC-AUC\", ascending=False))\n",
        "\n",
        "print(f\"\\n🏆 Best Base Model: {best_name} (ROC-AUC = {best_auc:.4f})\")\n",
        "\n",
        "# ==========================================\n",
        "# 6️⃣ Define Parameter Grid for Best Model Only\n",
        "# ==========================================\n",
        "param_grids = {\n",
        "    \"LogisticRegression\": {\n",
        "        \"classifier__C\": [0.1, 1, 10],\n",
        "        \"classifier__solver\": [\"lbfgs\", \"liblinear\"]\n",
        "    },\n",
        "    \"RandomForest\": {\n",
        "        \"classifier__n_estimators\": [100, 200, 300],\n",
        "        \"classifier__max_depth\": [5, 10, None],\n",
        "        \"classifier__min_samples_split\": [2, 5]\n",
        "    },\n",
        "    \"GradientBoosting\": {\n",
        "        \"classifier__n_estimators\": [100, 200],\n",
        "        \"classifier__learning_rate\": [0.05, 0.1, 0.2],\n",
        "        \"classifier__max_depth\": [3, 5]\n",
        "    },\n",
        "    \"SVC\": {\n",
        "        \"classifier__C\": [0.1, 1, 10],\n",
        "        \"classifier__kernel\": [\"linear\", \"rbf\"]\n",
        "    }\n",
        "}\n",
        "\n",
        "# Ensure the best model is one that has a defined parameter grid\n",
        "if best_name not in param_grids:\n",
        "    print(f\"\\n⚠️ No parameter grid defined for the best model ({best_name}). Skipping hyperparameter tuning.\")\n",
        "else:\n",
        "    param_grid = param_grids[best_name]\n",
        "\n",
        "    # ==========================================\n",
        "    # 7️⃣ Grid Search for the Best Model\n",
        "    # ==========================================\n",
        "    print(f\"\\n🔍 Performing GridSearchCV on {best_name}...\")\n",
        "\n",
        "    pipe_best = Pipeline([\n",
        "        (\"preprocessor\", preprocessor),\n",
        "        (\"classifier\", best_model)\n",
        "    ])\n",
        "\n",
        "    grid = GridSearchCV(\n",
        "        estimator=pipe_best,\n",
        "        param_grid=param_grid,\n",
        "        scoring=\"roc_auc\",\n",
        "        cv=5,\n",
        "        n_jobs=-1\n",
        "    )\n",
        "\n",
        "    grid.fit(X_train, y_train)\n",
        "\n",
        "    # ==========================================\n",
        "    # 8️⃣ Evaluate Tuned Best Model\n",
        "    # ==========================================\n",
        "    y_pred = grid.predict(X_test)\n",
        "    y_proba = grid.predict_proba(X_test)[:, 1]\n",
        "\n",
        "    print(\"\\n📈 Tuned Model Evaluation:\")\n",
        "    print(f\"Best Params: {grid.best_params_}\")\n",
        "\n",
        "    acc = accuracy_score(y_test, y_pred)\n",
        "    prec = precision_score(y_test, y_pred, zero_division=0)\n",
        "    rec = recall_score(y_test, y_pred, zero_division=0)\n",
        "    f1 = f1_score(y_test, y_pred, zero_division=0)\n",
        "    roc = roc_auc_score(y_test, y_proba)\n",
        "\n",
        "    print(f\"Accuracy: {acc:.4f}\")\n",
        "    print(f\"Precision: {prec:.4f}\")\n",
        "    print(f\"Recall: {rec:.4f}\")\n",
        "    print(f\"F1-Score: {f1:.4f}\")\n",
        "    print(f\"ROC-AUC: {roc:.4f}\")\n",
        "    print(\"\\nDetailed Report:\\n\", classification_report(y_test, y_pred))\n",
        "\n",
        "    # ==========================================\n",
        "    # 9️⃣ Save Tuned Model\n",
        "    # ==========================================\n",
        "    save_path = \"/content/drive/MyDrive/Data Analysis Projects/Maternal Health High Risk Pregnancy/best_tuned_model.pkl\"\n",
        "\n",
        "    with open(save_path, \"wb\") as f:\n",
        "        pickle.dump(grid.best_estimator_, f)\n",
        "\n",
        "    print(f\"\\n✅ Tuned {best_name} model saved successfully at:\\n{save_path}\")"
      ],
      "metadata": {
        "colab": {
          "base_uri": "https://localhost:8080/"
        },
        "id": "QbjBdE1ChG9c",
        "outputId": "9ce1fd8e-2154-4e8d-8708-204725a61061"
      },
      "execution_count": 130,
      "outputs": [
        {
          "output_type": "stream",
          "name": "stdout",
          "text": [
            "\n",
            "📊 Base Model Results:\n",
            "                Model  Accuracy  Precision  Recall    F1  ROC-AUC\n",
            "1        RandomForest     0.980      0.985   0.985 0.985    0.999\n",
            "3    GradientBoosting     0.955      0.977   0.955 0.966    0.995\n",
            "4                 SVC     0.920      0.921   0.962 0.941    0.988\n",
            "2        DecisionTree     0.985      0.992   0.985 0.989    0.985\n",
            "0  LogisticRegression     0.930      0.947   0.947 0.947    0.979\n",
            "\n",
            "🏆 Best Base Model: RandomForest (ROC-AUC = 0.9987)\n",
            "\n",
            "🔍 Performing GridSearchCV on RandomForest...\n",
            "\n",
            "📈 Tuned Model Evaluation:\n",
            "Best Params: {'classifier__max_depth': None, 'classifier__min_samples_split': 2, 'classifier__n_estimators': 200}\n",
            "Accuracy: 0.9800\n",
            "Precision: 0.9850\n",
            "Recall: 0.9850\n",
            "F1-Score: 0.9850\n",
            "ROC-AUC: 0.9985\n",
            "\n",
            "Detailed Report:\n",
            "               precision    recall  f1-score   support\n",
            "\n",
            "           0       0.97      0.97      0.97        67\n",
            "           1       0.98      0.98      0.98       133\n",
            "\n",
            "    accuracy                           0.98       200\n",
            "   macro avg       0.98      0.98      0.98       200\n",
            "weighted avg       0.98      0.98      0.98       200\n",
            "\n",
            "\n",
            "✅ Tuned RandomForest model saved successfully at:\n",
            "/content/drive/MyDrive/Data Analysis Projects/Maternal Health High Risk Pregnancy/best_tuned_model.pkl\n"
          ]
        }
      ]
    },
    {
      "cell_type": "markdown",
      "source": [
        "### Complete Sample 2 Model Pipeline"
      ],
      "metadata": {
        "id": "LyaE6SaEtDiE"
      }
    },
    {
      "cell_type": "code",
      "source": [
        "# ==========================================\n",
        "# MATERNAL HEALTH RISK PREDICTION – FULL PIPELINE (FIXED)\n",
        "# ==========================================\n",
        "import pandas as pd\n",
        "import numpy as np\n",
        "import pickle\n",
        "import warnings\n",
        "warnings.filterwarnings(\"ignore\")\n",
        "\n",
        "from sklearn.model_selection import (\n",
        "    train_test_split, StratifiedKFold, cross_val_score, GridSearchCV\n",
        ")\n",
        "from sklearn.preprocessing import StandardScaler, OneHotEncoder, LabelEncoder\n",
        "from sklearn.compose import ColumnTransformer\n",
        "from sklearn.pipeline import Pipeline\n",
        "from sklearn.impute import SimpleImputer\n",
        "from sklearn.metrics import (\n",
        "    accuracy_score, precision_score, recall_score, f1_score,\n",
        "    roc_auc_score, classification_report, confusion_matrix\n",
        ")\n",
        "from sklearn.ensemble import RandomForestClassifier, GradientBoostingClassifier\n",
        "from sklearn.tree import DecisionTreeClassifier\n",
        "from sklearn.linear_model import LogisticRegression\n",
        "from sklearn.svm import SVC\n",
        "\n",
        "from imblearn.pipeline import Pipeline as ImbPipeline\n",
        "from imblearn.over_sampling import SMOTE\n",
        "\n",
        "import shap\n",
        "import matplotlib.pyplot as plt\n",
        "import seaborn as sns\n",
        "\n",
        "# -------------------------------------------------\n",
        "# 1. Load & Clean Data\n",
        "# -------------------------------------------------\n",
        "print(\"Loading data...\")\n",
        "df = MartenalPreg.copy()                     # <-- fixed copy bug\n",
        "\n",
        "# Target\n",
        "y_raw = df[\"High-Risk Pregnancy\"]\n",
        "le = LabelEncoder()\n",
        "y = le.fit_transform(y_raw)                  # 0=Low, 1=High\n",
        "\n",
        "# Features\n",
        "X = df.drop(columns=[\"High-Risk Pregnancy\"])\n",
        "\n",
        "# Clean Fetal Heart Rate (remove stray 'm')\n",
        "X['Fetal Heart Rate'] = (\n",
        "    X['Fetal Heart Rate']\n",
        "    .astype(str)\n",
        "    .str.replace('m', '', regex=False)\n",
        "    .pipe(pd.to_numeric, errors='coerce')\n",
        ")\n",
        "\n",
        "# Explicit column lists\n",
        "num_features = X.select_dtypes(include=[\"int64\", \"float64\"]).columns.tolist()\n",
        "cat_features = X.select_dtypes(include=[\"object\", \"category\"]).columns.tolist()\n",
        "\n",
        "print(f\"Numeric features : {num_features}\")\n",
        "print(f\"Categorical features : {cat_features}\")\n",
        "print(f\"Target distribution : {np.bincount(y)} (0=Low, 1=High)\")\n",
        "\n",
        "# -------------------------------------------------\n",
        "# 2. Robust Preprocessor (handles missing values)\n",
        "# -------------------------------------------------\n",
        "numeric_transformer = Pipeline(steps=[\n",
        "    ('imputer', SimpleImputer(strategy='median')),\n",
        "    ('scaler',  StandardScaler())\n",
        "])\n",
        "\n",
        "categorical_transformer = Pipeline(steps=[\n",
        "    ('imputer', SimpleImputer(strategy='constant', fill_value='missing')),\n",
        "    # FIXED: use sparse_output (new scikit‑learn) or drop it (default=False)\n",
        "    ('onehot',  OneHotEncoder(handle_unknown='ignore', sparse_output=False))\n",
        "])\n",
        "\n",
        "preprocessor = ColumnTransformer(\n",
        "    transformers=[\n",
        "        ('num', numeric_transformer,   num_features),\n",
        "        ('cat', categorical_transformer, cat_features)\n",
        "    ],\n",
        "    remainder='passthrough'\n",
        ")\n",
        "\n",
        "# -------------------------------------------------\n",
        "# 3. Train‑Val‑Test Split (nested‑CV style)\n",
        "# -------------------------------------------------\n",
        "X_train_val, X_test, y_train_val, y_test = train_test_split(\n",
        "    X, y, test_size=0.20, stratify=y, random_state=42\n",
        ")\n",
        "\n",
        "X_train, X_val, y_train, y_val = train_test_split(\n",
        "    X_train_val, y_train_val, test_size=0.20, stratify=y_train_val, random_state=42\n",
        ")\n",
        "\n",
        "print(f\"Train: {X_train.shape} | Val: {X_val.shape} | Test: {X_test.shape}\")\n",
        "\n",
        "# -------------------------------------------------\n",
        "# 4. Base Models – 5‑fold CV with SMOTE\n",
        "# -------------------------------------------------\n",
        "models = {\n",
        "    \"LogisticRegression\": LogisticRegression(max_iter=2000, class_weight='balanced'),\n",
        "    \"RandomForest\":       RandomForestClassifier(class_weight='balanced', random_state=42),\n",
        "    \"DecisionTree\":       DecisionTreeClassifier(class_weight='balanced', random_state=42),\n",
        "    \"GradientBoosting\":   GradientBoostingClassifier(random_state=42),\n",
        "    \"SVC\":                SVC(probability=True, class_weight='balanced')\n",
        "}\n",
        "\n",
        "results = []\n",
        "best_name = \"\"\n",
        "best_cv_auc = 0\n",
        "best_model = None\n",
        "\n",
        "cv = StratifiedKFold(n_splits=5, shuffle=True, random_state=42)\n",
        "\n",
        "print(\"\\nEvaluating base models (5‑fold CV + SMOTE)...\")\n",
        "for name, model in models.items():\n",
        "    pipe = ImbPipeline([\n",
        "        ('prep',   preprocessor),\n",
        "        ('smote',  SMOTE(random_state=42)),\n",
        "        ('clf',    model)\n",
        "    ])\n",
        "\n",
        "    auc_scores = cross_val_score(pipe, X_train, y_train, cv=cv, scoring='roc_auc')\n",
        "    mean_auc = auc_scores.mean()\n",
        "\n",
        "    results.append({\n",
        "        \"Model\": name,\n",
        "        \"CV ROC‑AUC\": round(mean_auc, 4),\n",
        "        \"Std\": round(auc_scores.std(), 4)\n",
        "    })\n",
        "\n",
        "    if mean_auc > best_cv_auc:\n",
        "        best_cv_auc = mean_auc\n",
        "        best_model = model\n",
        "        best_name = name\n",
        "\n",
        "results_df = pd.DataFrame(results).sort_values(\"CV ROC‑AUC\", ascending=False)\n",
        "print(results_df.to_string(index=False))\n",
        "print(f\"\\nBest base model: {best_name} (CV ROC‑AUC = {best_cv_auc:.4f})\")\n",
        "\n",
        "# -------------------------------------------------\n",
        "# 5. Hyperparameter Tuning (only best model)\n",
        "# -------------------------------------------------\n",
        "param_grids = {\n",
        "    \"LogisticRegression\": {\n",
        "        \"clf__C\": [0.1, 1, 10],\n",
        "        \"clf__solver\": [\"lbfgs\", \"liblinear\"]\n",
        "    },\n",
        "    \"RandomForest\": {\n",
        "        \"clf__n_estimators\": [200, 300],\n",
        "        \"clf__max_depth\": [5, 10, None],\n",
        "        \"clf__min_samples_split\": [2, 5]\n",
        "    },\n",
        "    \"GradientBoosting\": {\n",
        "        \"clf__n_estimators\": [100, 200],\n",
        "        \"clf__learning_rate\": [0.05, 0.1],\n",
        "        \"clf__max_depth\": [3, 5]\n",
        "    },\n",
        "    \"SVC\": {\n",
        "        \"clf__C\": [0.1, 1, 10],\n",
        "        \"clf__kernel\": [\"rbf\"]\n",
        "    }\n",
        "}\n",
        "\n",
        "if best_name not in param_grids:\n",
        "    print(f\"No grid for {best_name} → using defaults.\")\n",
        "    final_pipe = ImbPipeline([\n",
        "        ('prep',   preprocessor),\n",
        "        ('smote',  SMOTE(random_state=42)),\n",
        "        ('clf',    best_model)\n",
        "    ])\n",
        "    final_pipe.fit(X_train, y_train)\n",
        "else:\n",
        "    print(f\"\\nGridSearchCV on {best_name}...\")\n",
        "    grid_pipe = ImbPipeline([\n",
        "        ('prep',   preprocessor),\n",
        "        ('smote',  SMOTE(random_state=42)),\n",
        "        ('clf',    best_model)\n",
        "    ])\n",
        "\n",
        "    grid = GridSearchCV(\n",
        "        estimator=grid_pipe,\n",
        "        param_grid=param_grids[best_name],\n",
        "        scoring='roc_auc',\n",
        "        cv=cv,\n",
        "        n_jobs=-1,\n",
        "        verbose=1\n",
        "    )\n",
        "    grid.fit(X_train, y_train)\n",
        "    final_pipe = grid.best_estimator_\n",
        "    print(f\"Best params: {grid.best_params_}\")\n",
        "\n",
        "# -------------------------------------------------\n",
        "# 6. Validation Set Performance\n",
        "# -------------------------------------------------\n",
        "y_val_pred  = final_pipe.predict(X_val)\n",
        "y_val_proba = final_pipe.predict_proba(X_val)[:, 1]\n",
        "\n",
        "print(\"\\nVALIDATION SET\")\n",
        "print(f\"Accuracy : {accuracy_score(y_val, y_val_pred):.4f}\")\n",
        "print(f\"Precision: {precision_score(y_val, y_val_pred):.4f}\")\n",
        "print(f\"Recall   : {recall_score(y_val, y_val_pred):.4f}\")\n",
        "print(f\"F1‑Score : {f1_score(y_val, y_val_pred):.4f}\")\n",
        "print(f\"ROC‑AUC  : {roc_auc_score(y_val, y_val_proba):.4f}\")\n",
        "print(\"\\nClassification Report:\\n\", classification_report(y_val, y_val_pred))\n",
        "\n",
        "# -------------------------------------------------\n",
        "# 7. FINAL TEST SET (never seen before)\n",
        "# -------------------------------------------------\n",
        "y_test_pred  = final_pipe.predict(X_test)\n",
        "y_test_proba = final_pipe.predict_proba(X_test)[:, 1]\n",
        "\n",
        "print(\"\\nTEST SET (Hold‑out)\")\n",
        "print(f\"Accuracy : {accuracy_score(y_test, y_test_pred):.4f}\")\n",
        "print(f\"Precision: {precision_score(y_test, y_test_pred):.4f}\")\n",
        "print(f\"Recall   : {recall_score(y_test, y_test_pred):.4f}\")\n",
        "print(f\"F1‑Score : {f1_score(y_test, y_test_pred):.4f}\")\n",
        "print(f\"ROC‑AUC  : {roc_auc_score(y_test, y_test_proba):.4f}\")\n",
        "print(\"\\nFinal Classification Report:\\n\", classification_report(y_test, y_test_pred))\n",
        "\n",
        "# Confusion matrix\n",
        "cm = confusion_matrix(y_test, y_test_pred)\n",
        "plt.figure(figsize=(5,4))\n",
        "sns.heatmap(cm, annot=True, fmt='d', cmap='Blues',\n",
        "            xticklabels=le.classes_, yticklabels=le.classes_)\n",
        "plt.title(\"Confusion Matrix – Test Set\")\n",
        "plt.ylabel(\"True\")\n",
        "plt.xlabel(\"Predicted\")\n",
        "plt.show()\n",
        "\n",
        "# -------------------------------------------------\n",
        "# 8. SHAP Explainability (CORRECTED & ROBUST)\n",
        "# -------------------------------------------------\n",
        "print(\"\\nGenerating SHAP summary...\")\n",
        "\n",
        "# Fit preprocessor on TRAIN only\n",
        "preprocessor.fit(X_train)\n",
        "X_test_prep = preprocessor.transform(X_test)\n",
        "\n",
        "# Build feature names\n",
        "ohe = preprocessor.named_transformers_['cat']['onehot']\n",
        "cat_names = ohe.get_feature_names_out(cat_features).tolist()\n",
        "all_feature_names = num_features + cat_names\n",
        "\n",
        "# Extract classifier\n",
        "clf = final_pipe.named_steps['clf']\n",
        "\n",
        "# SHAP\n",
        "if isinstance(clf, (RandomForestClassifier, GradientBoostingClassifier, DecisionTreeClassifier)):\n",
        "    explainer = shap.TreeExplainer(clf)\n",
        "    shap_values = explainer.shap_values(X_test_prep)\n",
        "    if isinstance(shap_values, list):\n",
        "        shap_values = shap_values[1]  # Positive class\n",
        "else:\n",
        "    # Fallback: use smaller sample for KernelExplainer\n",
        "    print(\"Using KernelExplainer (slower)...\")\n",
        "    explainer = shap.KernelExplainer(clf.predict_proba, X_test_prep[:50])\n",
        "    shap_values = explainer.shap_values(X_test_prep[:50])\n",
        "    X_test_prep = X_test_prep[:50]\n",
        "    all_feature_names = all_feature_names\n",
        "\n",
        "# # Plot\n",
        "# shap.summary_plot(shap_values, X_test_prep, feature_names=all_feature_names, max_display=20)\n",
        "# plt.title(\"SHAP: Top Drivers of High-Risk Pregnancy\")\n",
        "# plt.show()\n",
        "\n",
        "# -------------------------------------------------\n",
        "# 9. Save Model + Preprocessor + Encoder\n",
        "# -------------------------------------------------\n",
        "artifacts = {\n",
        "    'model': final_pipe,\n",
        "    'preprocessor': preprocessor,\n",
        "    'label_encoder': le,\n",
        "    'num_features': num_features,\n",
        "    'cat_features': cat_features,\n",
        "    'feature_names': all_feature_names\n",
        "}\n",
        "\n",
        "save_path = \"/content/drive/MyDrive/Data Analysis Projects/Maternal Health High Risk Pregnancy/final_maternal_model_v2.pkl\"\n",
        "with open(save_path, 'wb') as f:\n",
        "    pickle.dump(artifacts, f)\n",
        "\n",
        "print(f\"\\nModel, preprocessor, and metadata saved → {save_path}\")\n",
        "print(\"Pipeline completed successfully!\")"
      ],
      "metadata": {
        "colab": {
          "base_uri": "https://localhost:8080/",
          "height": 1000
        },
        "id": "P-Ap-Xa-tCtE",
        "outputId": "4f793a73-2699-41ce-c0fa-14ab0ee1822b"
      },
      "execution_count": 129,
      "outputs": [
        {
          "output_type": "stream",
          "name": "stdout",
          "text": [
            "Loading data...\n",
            "Numeric features : ['Age', 'Fetal Heart Rate']\n",
            "Categorical features : ['Gravida', 'TranslationTT Injection', 'Gestational Age', 'Weight', 'Height', 'Blood Pressure', 'Anemia', 'Jaundice', 'Fetal Position', 'Urine Test – Albumin', 'Urine Test – Sugar', 'VDRL', 'HRsAG']\n",
            "Target distribution : [332 666] (0=Low, 1=High)\n",
            "Train: (638, 15) | Val: (160, 15) | Test: (200, 15)\n",
            "\n",
            "Evaluating base models (5‑fold CV + SMOTE)...\n",
            "             Model  CV ROC‑AUC   Std\n",
            "      RandomForest       0.996 0.002\n",
            "  GradientBoosting       0.986 0.007\n",
            "               SVC       0.984 0.007\n",
            "LogisticRegression       0.975 0.009\n",
            "      DecisionTree       0.974 0.016\n",
            "\n",
            "Best base model: RandomForest (CV ROC‑AUC = 0.9961)\n",
            "\n",
            "GridSearchCV on RandomForest...\n",
            "Fitting 5 folds for each of 12 candidates, totalling 60 fits\n",
            "Best params: {'clf__max_depth': None, 'clf__min_samples_split': 2, 'clf__n_estimators': 300}\n",
            "\n",
            "VALIDATION SET\n",
            "Accuracy : 0.9875\n",
            "Precision: 1.0000\n",
            "Recall   : 0.9813\n",
            "F1‑Score : 0.9906\n",
            "ROC‑AUC  : 1.0000\n",
            "\n",
            "Classification Report:\n",
            "               precision    recall  f1-score   support\n",
            "\n",
            "           0       0.96      1.00      0.98        53\n",
            "           1       1.00      0.98      0.99       107\n",
            "\n",
            "    accuracy                           0.99       160\n",
            "   macro avg       0.98      0.99      0.99       160\n",
            "weighted avg       0.99      0.99      0.99       160\n",
            "\n",
            "\n",
            "TEST SET (Hold‑out)\n",
            "Accuracy : 0.9750\n",
            "Precision: 0.9848\n",
            "Recall   : 0.9774\n",
            "F1‑Score : 0.9811\n",
            "ROC‑AUC  : 0.9983\n",
            "\n",
            "Final Classification Report:\n",
            "               precision    recall  f1-score   support\n",
            "\n",
            "           0       0.96      0.97      0.96        67\n",
            "           1       0.98      0.98      0.98       133\n",
            "\n",
            "    accuracy                           0.97       200\n",
            "   macro avg       0.97      0.97      0.97       200\n",
            "weighted avg       0.98      0.97      0.98       200\n",
            "\n"
          ]
        },
        {
          "output_type": "display_data",
          "data": {
            "text/plain": [
              "<Figure size 500x400 with 2 Axes>"
            ],
            "image/png": "[encoded data removed]"
          },
          "metadata": {}
        },
        {
          "output_type": "stream",
          "name": "stdout",
          "text": [
            "\n",
            "Generating SHAP summary...\n",
            "\n",
            "Model, preprocessor, and metadata saved → /content/drive/MyDrive/Data Analysis Projects/Maternal Health High Risk Pregnancy/final_maternal_model_v2.pkl\n",
            "Pipeline completed successfully!\n"
          ]
        }
      ]
    },
    {
      "cell_type": "markdown",
      "source": [
        "### Model Deployment"
      ],
      "metadata": {
        "id": "qafg3BwJv-3U"
      }
    },
    {
      "cell_type": "code",
      "source": [
        "import streamlit as st\n",
        "import pandas as pd\n",
        "import numpy as np\n",
        "import pickle\n",
        "\n",
        "# ==========================================\n",
        "# 1️⃣ Load the Trained Model\n",
        "# ==========================================\n",
        "MODEL_PATH = \"/content/drive/MyDrive/Data Analysis Projects/Maternal Health High Risk Pregnancy/best_tuned_model.pkl\"\n",
        "\n",
        "with open(MODEL_PATH, \"rb\") as f:\n",
        "    model = pickle.load(f)\n",
        "\n",
        "st.set_page_config(page_title=\"Maternal Health High-Risk Pregnancy Prediction\", layout=\"wide\")\n",
        "st.title(\"🤰 Maternal Health High-Risk Pregnancy Prediction App\")\n",
        "\n",
        "st.write(\"\"\"\n",
        "This app uses a machine learning model trained on maternal health data to predict whether a pregnancy\n",
        "is **High-Risk** or **Normal** based on clinical and physiological parameters.\n",
        "\"\"\")\n",
        "\n",
        "# ==========================================\n",
        "# 2️⃣ Collect User Input\n",
        "# ==========================================\n",
        "st.subheader(\"Enter Maternal Health Details\")\n",
        "\n",
        "col1, col2, col3 = st.columns(3)\n",
        "\n",
        "with col1:\n",
        "    name = st.text_input(\"Name\")\n",
        "    age = st.number_input(\"Age\", min_value=10, max_value=60, value=25)\n",
        "    gravida = st.selectbox(\"Gravida (Pregnancy Count)\", [\"1st\", \"2nd\", \"3rd\", \"4th or more\"])\n",
        "    tt_injection = st.selectbox(\"Tetanus Toxoid Injection\", [\"1st\", \"2nd\", \"None\"])\n",
        "    gestational_age = st.number_input(\"Gestational Age (weeks)\", min_value=4, max_value=42, value=38)\n",
        "    weight = st.number_input(\"Weight (kg)\", min_value=30.0, max_value=120.0, value=60.0)\n",
        "\n",
        "with col2:\n",
        "    height = st.number_input(\"Height (feet)\", min_value=4.0, max_value=6.5, value=5.3)\n",
        "    blood_pressure = st.text_input(\"Blood Pressure (e.g., 110/70)\", value=\"100/60\")\n",
        "    anemia = st.selectbox(\"Anemia\", [\"Normal\", \"Mild\", \"Moderate\", \"Severe\"])\n",
        "    jaundice = st.selectbox(\"Jaundice\", [\"Normal\", \"Yes\"])\n",
        "    fetal_position = st.selectbox(\"Fetal Position\", [\"Normal\", \"Breech\", \"Transverse\"])\n",
        "    fetal_movement = st.selectbox(\"Fetal Movement\", [\"Normal\", \"Reduced\", \"Absent\"])\n",
        "\n",
        "with col3:\n",
        "    fetal_heart_rate = st.number_input(\"Fetal Heart Rate (bpm)\", min_value=60, max_value=200, value=130)\n",
        "    urine_albumin = st.selectbox(\"Urine Test – Albumin\", [\"Normal\", \"Higher\"])\n",
        "    urine_sugar = st.selectbox(\"Urine Test – Sugar\", [\"Normal\", \"Yes\"])\n",
        "    vdrl = st.selectbox(\"VDRL (Syphilis Test)\", [\"Negative\", \"Positive\"])\n",
        "    hbsag = st.selectbox(\"HBsAg (Hepatitis B Test)\", [\"Negative\", \"Positive\"])\n",
        "\n",
        "# ==========================================\n",
        "# 3️⃣ Prepare Input for Model\n",
        "# ==========================================\n",
        "if st.button(\"🔍 Predict Risk\"):\n",
        "    try:\n",
        "        # Create input dataframe\n",
        "        input_data = pd.DataFrame({\n",
        "            \"Name\": [name],\n",
        "            \"Age\": [age],\n",
        "            \"Gravida\": [gravida],\n",
        "            \"TranslationTT Injection\": [tt_injection],\n",
        "            \"Gestational Age\": [f\"{gestational_age} week\"],\n",
        "            \"Weight\": [f\"{weight} kg\"],\n",
        "            \"Height\": [f\"{height}''\"],\n",
        "            \"Blood Pressure\": [blood_pressure],\n",
        "            \"Anemia\": [anemia],\n",
        "            \"Jaundice\": [jaundice],\n",
        "            \"Fetal Position\": [fetal_position],\n",
        "            \"Fetal Movement\": [fetal_movement],\n",
        "            \"Fetal Heart Rate\": [f\"{fetal_heart_rate}m\"],\n",
        "            \"Urine Test – Albumin\": [urine_albumin],\n",
        "            \"Urine Test – Sugar\": [urine_sugar],\n",
        "            \"VDRL\": [vdrl],\n",
        "            \"HRsAG\": [hbsag]\n",
        "        })\n",
        "\n",
        "        # Preprocess Fetal Heart Rate numeric\n",
        "        input_data[\"Fetal Heart Rate\"] = (\n",
        "            input_data[\"Fetal Heart Rate\"].astype(str).str.replace(\"m\", \"\", regex=False)\n",
        "        )\n",
        "        input_data[\"Fetal Heart Rate\"] = pd.to_numeric(input_data[\"Fetal Heart Rate\"])\n",
        "\n",
        "        # Drop non-model features if needed\n",
        "        if \"Name\" in input_data.columns:\n",
        "            input_data = input_data.drop(columns=[\"Name\"])\n",
        "\n",
        "        # Predict\n",
        "        prediction = model.predict(input_data)[0]\n",
        "        prediction_proba = model.predict_proba(input_data)[0][1]\n",
        "\n",
        "        # Interpret result\n",
        "        st.subheader(\"📊 Prediction Result\")\n",
        "        if prediction == 1:\n",
        "            st.error(f\"⚠️ {name or 'This patient'} is predicted to have a **High-Risk Pregnancy**.\")\n",
        "        else:\n",
        "            st.success(f\"✅ {name or 'This patient'} is predicted to have a **Normal Pregnancy**.\")\n",
        "\n",
        "        st.write(f\"**Prediction Confidence (High-Risk Probability):** {prediction_proba:.2%}\")\n",
        "\n",
        "    except Exception as e:\n",
        "        st.error(f\"⚠️ Error during prediction: {str(e)}\")\n",
        "\n",
        "# ==========================================\n",
        "# 4️⃣ Footer\n",
        "# ==========================================\n",
        "st.markdown(\"\"\"\n",
        "---\n",
        "🧠 **Model Source:** Trained using ensemble models (Logistic Regression, Random Forest, Gradient Boosting, SVC)\n",
        "📦 **File:** `best_tuned_model.pkl`\n",
        "📅 **Deployed via Streamlit**\n",
        "\"\"\")"
      ],
      "metadata": {
        "colab": {
          "base_uri": "https://localhost:8080/",
          "height": 400
        },
        "id": "WkXZUel8wC3m",
        "outputId": "98feb5dd-bdf6-42fa-d2bc-70c7e7827384"
      },
      "execution_count": 131,
      "outputs": [
        {
          "output_type": "error",
          "ename": "ModuleNotFoundError",
          "evalue": "No module named 'streamlit'",
          "traceback": [
            "\u001b[0;31m---------------------------------------------------------------------------\u001b[0m",
            "\u001b[0;31mModuleNotFoundError\u001b[0m                       Traceback (most recent call last)",
            "\u001b[0;32m/tmp/ipython-input-2348109038.py\u001b[0m in \u001b[0;36m<cell line: 0>\u001b[0;34m()\u001b[0m\n\u001b[0;32m----> 1\u001b[0;31m \u001b[0;32mimport\u001b[0m \u001b[0mstreamlit\u001b[0m \u001b[0;32mas\u001b[0m \u001b[0mst\u001b[0m\u001b[0;34m\u001b[0m\u001b[0;34m\u001b[0m\u001b[0m\n\u001b[0m\u001b[1;32m      2\u001b[0m \u001b[0;32mimport\u001b[0m \u001b[0mpandas\u001b[0m \u001b[0;32mas\u001b[0m \u001b[0mpd\u001b[0m\u001b[0;34m\u001b[0m\u001b[0;34m\u001b[0m\u001b[0m\n\u001b[1;32m      3\u001b[0m \u001b[0;32mimport\u001b[0m \u001b[0mnumpy\u001b[0m \u001b[0;32mas\u001b[0m \u001b[0mnp\u001b[0m\u001b[0;34m\u001b[0m\u001b[0;34m\u001b[0m\u001b[0m\n\u001b[1;32m      4\u001b[0m \u001b[0;32mimport\u001b[0m \u001b[0mpickle\u001b[0m\u001b[0;34m\u001b[0m\u001b[0;34m\u001b[0m\u001b[0m\n\u001b[1;32m      5\u001b[0m \u001b[0;34m\u001b[0m\u001b[0m\n",
            "\u001b[0;31mModuleNotFoundError\u001b[0m: No module named 'streamlit'",
            "",
            "\u001b[0;31m---------------------------------------------------------------------------\u001b[0;32m\nNOTE: If your import is failing due to a missing package, you can\nmanually install dependencies using either !pip or !apt.\n\nTo view examples of installing some common dependencies, click the\n\"Open Examples\" button below.\n\u001b[0;31m---------------------------------------------------------------------------\u001b[0m\n"
          ],
          "errorDetails": {
            "actions": [
              {
                "action": "open_url",
                "actionText": "Open Examples",
                "url": "/notebooks/snippets/importing_libraries.ipynb"
              }
            ]
          }
        }
      ]
    },
    {
      "cell_type": "code",
      "metadata": {
        "colab": {
          "base_uri": "https://localhost:8080/"
        },
        "id": "49d0e677",
        "outputId": "dadcbc5d-3d37-4f32-b6fb-77e7b3219527"
      },
      "source": [
        "!pip install streamlit"
      ],
      "execution_count": 132,
      "outputs": [
        {
          "output_type": "stream",
          "name": "stdout",
          "text": [
            "Collecting streamlit\n",
            "  Downloading streamlit-1.50.0-py3-none-any.whl.metadata (9.5 kB)\n",
            "Requirement already satisfied: altair!=5.4.0,!=5.4.1,<6,>=4.0 in /usr/local/lib/python3.12/dist-packages (from streamlit) (5.5.0)\n",
            "Requirement already satisfied: blinker<2,>=1.5.0 in /usr/local/lib/python3.12/dist-packages (from streamlit) (1.9.0)\n",
            "Requirement already satisfied: cachetools<7,>=4.0 in /usr/local/lib/python3.12/dist-packages (from streamlit) (5.5.2)\n",
            "Requirement already satisfied: click<9,>=7.0 in /usr/local/lib/python3.12/dist-packages (from streamlit) (8.3.0)\n",
            "Requirement already satisfied: numpy<3,>=1.23 in /usr/local/lib/python3.12/dist-packages (from streamlit) (2.0.2)\n",
            "Requirement already satisfied: packaging<26,>=20 in /usr/local/lib/python3.12/dist-packages (from streamlit) (25.0)\n",
            "Requirement already satisfied: pandas<3,>=1.4.0 in /usr/local/lib/python3.12/dist-packages (from streamlit) (2.2.2)\n",
            "Requirement already satisfied: pillow<12,>=7.1.0 in /usr/local/lib/python3.12/dist-packages (from streamlit) (11.3.0)\n",
            "Requirement already satisfied: protobuf<7,>=3.20 in /usr/local/lib/python3.12/dist-packages (from streamlit) (5.29.5)\n",
            "Requirement already satisfied: pyarrow>=7.0 in /usr/local/lib/python3.12/dist-packages (from streamlit) (18.1.0)\n",
            "Requirement already satisfied: requests<3,>=2.27 in /usr/local/lib/python3.12/dist-packages (from streamlit) (2.32.4)\n",
            "Requirement already satisfied: tenacity<10,>=8.1.0 in /usr/local/lib/python3.12/dist-packages (from streamlit) (8.5.0)\n",
            "Requirement already satisfied: toml<2,>=0.10.1 in /usr/local/lib/python3.12/dist-packages (from streamlit) (0.10.2)\n",
            "Requirement already satisfied: typing-extensions<5,>=4.4.0 in /usr/local/lib/python3.12/dist-packages (from streamlit) (4.15.0)\n",
            "Requirement already satisfied: watchdog<7,>=2.1.5 in /usr/local/lib/python3.12/dist-packages (from streamlit) (6.0.0)\n",
            "Requirement already satisfied: gitpython!=3.1.19,<4,>=3.0.7 in /usr/local/lib/python3.12/dist-packages (from streamlit) (3.1.45)\n",
            "Collecting pydeck<1,>=0.8.0b4 (from streamlit)\n",
            "  Downloading pydeck-0.9.1-py2.py3-none-any.whl.metadata (4.1 kB)\n",
            "Requirement already satisfied: tornado!=6.5.0,<7,>=6.0.3 in /usr/local/lib/python3.12/dist-packages (from streamlit) (6.5.1)\n",
            "Requirement already satisfied: jinja2 in /usr/local/lib/python3.12/dist-packages (from altair!=5.4.0,!=5.4.1,<6,>=4.0->streamlit) (3.1.6)\n",
            "Requirement already satisfied: jsonschema>=3.0 in /usr/local/lib/python3.12/dist-packages (from altair!=5.4.0,!=5.4.1,<6,>=4.0->streamlit) (4.25.1)\n",
            "Requirement already satisfied: narwhals>=1.14.2 in /usr/local/lib/python3.12/dist-packages (from altair!=5.4.0,!=5.4.1,<6,>=4.0->streamlit) (2.9.0)\n",
            "Requirement already satisfied: gitdb<5,>=4.0.1 in /usr/local/lib/python3.12/dist-packages (from gitpython!=3.1.19,<4,>=3.0.7->streamlit) (4.0.12)\n",
            "Requirement already satisfied: python-dateutil>=2.8.2 in /usr/local/lib/python3.12/dist-packages (from pandas<3,>=1.4.0->streamlit) (2.9.0.post0)\n",
            "Requirement already satisfied: pytz>=2020.1 in /usr/local/lib/python3.12/dist-packages (from pandas<3,>=1.4.0->streamlit) (2025.2)\n",
            "Requirement already satisfied: tzdata>=2022.7 in /usr/local/lib/python3.12/dist-packages (from pandas<3,>=1.4.0->streamlit) (2025.2)\n",
            "Requirement already satisfied: charset_normalizer<4,>=2 in /usr/local/lib/python3.12/dist-packages (from requests<3,>=2.27->streamlit) (3.4.4)\n",
            "Requirement already satisfied: idna<4,>=2.5 in /usr/local/lib/python3.12/dist-packages (from requests<3,>=2.27->streamlit) (3.11)\n",
            "Requirement already satisfied: urllib3<3,>=1.21.1 in /usr/local/lib/python3.12/dist-packages (from requests<3,>=2.27->streamlit) (2.5.0)\n",
            "Requirement already satisfied: certifi>=2017.4.17 in /usr/local/lib/python3.12/dist-packages (from requests<3,>=2.27->streamlit) (2025.10.5)\n",
            "Requirement already satisfied: smmap<6,>=3.0.1 in /usr/local/lib/python3.12/dist-packages (from gitdb<5,>=4.0.1->gitpython!=3.1.19,<4,>=3.0.7->streamlit) (5.0.2)\n",
            "Requirement already satisfied: MarkupSafe>=2.0 in /usr/local/lib/python3.12/dist-packages (from jinja2->altair!=5.4.0,!=5.4.1,<6,>=4.0->streamlit) (3.0.3)\n",
            "Requirement already satisfied: attrs>=22.2.0 in /usr/local/lib/python3.12/dist-packages (from jsonschema>=3.0->altair!=5.4.0,!=5.4.1,<6,>=4.0->streamlit) (25.4.0)\n",
            "Requirement already satisfied: jsonschema-specifications>=2023.03.6 in /usr/local/lib/python3.12/dist-packages (from jsonschema>=3.0->altair!=5.4.0,!=5.4.1,<6,>=4.0->streamlit) (2025.9.1)\n",
            "Requirement already satisfied: referencing>=0.28.4 in /usr/local/lib/python3.12/dist-packages (from jsonschema>=3.0->altair!=5.4.0,!=5.4.1,<6,>=4.0->streamlit) (0.37.0)\n",
            "Requirement already satisfied: rpds-py>=0.7.1 in /usr/local/lib/python3.12/dist-packages (from jsonschema>=3.0->altair!=5.4.0,!=5.4.1,<6,>=4.0->streamlit) (0.27.1)\n",
            "Requirement already satisfied: six>=1.5 in /usr/local/lib/python3.12/dist-packages (from python-dateutil>=2.8.2->pandas<3,>=1.4.0->streamlit) (1.17.0)\n",
            "Downloading streamlit-1.50.0-py3-none-any.whl (10.1 MB)\n",
            "\u001b[2K   \u001b[90m━━━━━━━━━━━━━━━━━━━━━━━━━━━━━━━━━━━━━━━━\u001b[0m \u001b[32m10.1/10.1 MB\u001b[0m \u001b[31m82.6 MB/s\u001b[0m eta \u001b[36m0:00:00\u001b[0m\n",
            "\u001b[?25hDownloading pydeck-0.9.1-py2.py3-none-any.whl (6.9 MB)\n",
            "\u001b[2K   \u001b[90m━━━━━━━━━━━━━━━━━━━━━━━━━━━━━━━━━━━━━━━━\u001b[0m \u001b[32m6.9/6.9 MB\u001b[0m \u001b[31m111.8 MB/s\u001b[0m eta \u001b[36m0:00:00\u001b[0m\n",
            "\u001b[?25hInstalling collected packages: pydeck, streamlit\n",
            "Successfully installed pydeck-0.9.1 streamlit-1.50.0\n"
          ]
        }
      ]
    },
    {
      "cell_type": "markdown",
      "metadata": {
        "id": "930c26ef"
      },
      "source": [
        "**Please restart the Colab runtime after the installation is complete.** You can do this by going to `Runtime > Restart runtime` in the menu."
      ]
    }
  ],
  "metadata": {
    "colab": {
      "collapsed_sections": [
        "wc91ipNg4Ziz",
        "dmRNRE6l4Ziz",
        "rTnzTsOk4Ziz",
        "sIfEBuHq4Zi0",
        "bG7fUAmy4Zi2",
        "vcQIyYc54Zi2",
        "F13ofQZK4Zi2",
        "VEo2yyDs4Zi3",
        "8493uMGX4Zi3",
        "q0F5JqD74Zi4",
        "lX55F-um4Zi4",
        "UiW1ugUT4Zi5",
        "p9dSmP6N22tJ",
        "_Els86SP4Zi9",
        "7l_CRyMS81jC",
        "t4NdPBtJ4Zi9"
      ],
      "provenance": []
    },
    "kernelspec": {
      "display_name": "Python 3 (ipykernel)",
      "language": "python",
      "name": "python3"
    },
    "language_info": {
      "codemirror_mode": {
        "name": "ipython",
        "version": 3
      },
      "file_extension": ".py",
      "mimetype": "text/x-python",
      "name": "python",
      "nbconvert_exporter": "python",
      "pygments_lexer": "ipython3",
      "version": "3.9.12"
    }
  },
  "nbformat": 4,
  "nbformat_minor": 0
}